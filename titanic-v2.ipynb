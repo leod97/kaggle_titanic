{
 "cells": [
  {
   "cell_type": "code",
   "execution_count": 1,
   "metadata": {
    "_cell_guid": "b1076dfc-b9ad-4769-8c92-a6c4dae69d19",
    "_uuid": "8f2839f25d086af736a60e9eeb907d3b93b6e0e5",
    "execution": {
     "iopub.execute_input": "2020-10-01T08:47:44.414648Z",
     "iopub.status.busy": "2020-10-01T08:47:44.413866Z",
     "iopub.status.idle": "2020-10-01T08:47:45.705434Z",
     "shell.execute_reply": "2020-10-01T08:47:45.706068Z"
    },
    "papermill": {
     "duration": 1.386787,
     "end_time": "2020-10-01T08:47:45.706281",
     "exception": false,
     "start_time": "2020-10-01T08:47:44.319494",
     "status": "completed"
    },
    "tags": []
   },
   "outputs": [
    {
     "name": "stdout",
     "output_type": "stream",
     "text": [
      "/kaggle/input/titanic/train.csv\n",
      "/kaggle/input/titanic/gender_submission.csv\n",
      "/kaggle/input/titanic/test.csv\n"
     ]
    }
   ],
   "source": [
    "# This Python 3 environment comes with many helpful analytics libraries installed\n",
    "# It is defined by the kaggle/python Docker image: https://github.com/kaggle/docker-python\n",
    "# For example, here's several helpful packages to load\n",
    "\n",
    "import numpy as np # linear algebra\n",
    "import pandas as pd # data processing, CSV file I/O (e.g. pd.read_csv)\n",
    "pd.plotting.register_matplotlib_converters()\n",
    "import matplotlib.pyplot as plt\n",
    "%matplotlib inline\n",
    "import seaborn as sns\n",
    "# Input data files are available in the read-only \"../input/\" directory\n",
    "# For example, running this (by clicking run or pressing Shift+Enter) will list all files under the input directory\n",
    "\n",
    "import os\n",
    "for dirname, _, filenames in os.walk('/kaggle/input'):\n",
    "    for filename in filenames:\n",
    "        print(os.path.join(dirname, filename))\n",
    "\n",
    "# You can write up to 5GB to the current directory (/kaggle/working/) that gets preserved as output when you create a version using \"Save & Run All\" \n",
    "# You can also write temporary files to /kaggle/temp/, but they won't be saved outside of the current session"
   ]
  },
  {
   "cell_type": "code",
   "execution_count": 2,
   "metadata": {
    "_cell_guid": "79c7e3d0-c299-4dcb-8224-4455121ee9b0",
    "_uuid": "d629ff2d2480ee46fbb7e2d37f6b5fab8052498a",
    "execution": {
     "iopub.execute_input": "2020-10-01T08:47:45.873221Z",
     "iopub.status.busy": "2020-10-01T08:47:45.872371Z",
     "iopub.status.idle": "2020-10-01T08:47:45.894964Z",
     "shell.execute_reply": "2020-10-01T08:47:45.895491Z"
    },
    "papermill": {
     "duration": 0.109413,
     "end_time": "2020-10-01T08:47:45.895656",
     "exception": false,
     "start_time": "2020-10-01T08:47:45.786243",
     "status": "completed"
    },
    "tags": []
   },
   "outputs": [],
   "source": [
    "train_filepath='../input/titanic/train.csv'\n",
    "test_filepath='../input/titanic/test.csv'\n",
    "titanic_data=pd.read_csv(train_filepath)\n",
    "test_data=pd.read_csv(test_filepath)\n",
    "df=titanic_data.copy()"
   ]
  },
  {
   "cell_type": "markdown",
   "metadata": {
    "papermill": {
     "duration": 0.080135,
     "end_time": "2020-10-01T08:47:46.056990",
     "exception": false,
     "start_time": "2020-10-01T08:47:45.976855",
     "status": "completed"
    },
    "tags": []
   },
   "source": [
    "# EDA"
   ]
  },
  {
   "cell_type": "markdown",
   "metadata": {
    "papermill": {
     "duration": 0.083642,
     "end_time": "2020-10-01T08:47:46.221159",
     "exception": false,
     "start_time": "2020-10-01T08:47:46.137517",
     "status": "completed"
    },
    "tags": []
   },
   "source": [
    "# Analyse basique"
   ]
  },
  {
   "cell_type": "markdown",
   "metadata": {
    "papermill": {
     "duration": 0.093281,
     "end_time": "2020-10-01T08:47:46.432228",
     "exception": false,
     "start_time": "2020-10-01T08:47:46.338947",
     "status": "completed"
    },
    "tags": []
   },
   "source": [
    "# Analyse de la forme"
   ]
  },
  {
   "cell_type": "code",
   "execution_count": 3,
   "metadata": {
    "execution": {
     "iopub.execute_input": "2020-10-01T08:47:46.602613Z",
     "iopub.status.busy": "2020-10-01T08:47:46.601926Z",
     "iopub.status.idle": "2020-10-01T08:47:46.623925Z",
     "shell.execute_reply": "2020-10-01T08:47:46.623225Z"
    },
    "papermill": {
     "duration": 0.110504,
     "end_time": "2020-10-01T08:47:46.624047",
     "exception": false,
     "start_time": "2020-10-01T08:47:46.513543",
     "status": "completed"
    },
    "tags": []
   },
   "outputs": [
    {
     "data": {
      "text/html": [
       "<div>\n",
       "<style scoped>\n",
       "    .dataframe tbody tr th:only-of-type {\n",
       "        vertical-align: middle;\n",
       "    }\n",
       "\n",
       "    .dataframe tbody tr th {\n",
       "        vertical-align: top;\n",
       "    }\n",
       "\n",
       "    .dataframe thead th {\n",
       "        text-align: right;\n",
       "    }\n",
       "</style>\n",
       "<table border=\"1\" class=\"dataframe\">\n",
       "  <thead>\n",
       "    <tr style=\"text-align: right;\">\n",
       "      <th></th>\n",
       "      <th>PassengerId</th>\n",
       "      <th>Survived</th>\n",
       "      <th>Pclass</th>\n",
       "      <th>Name</th>\n",
       "      <th>Sex</th>\n",
       "      <th>Age</th>\n",
       "      <th>SibSp</th>\n",
       "      <th>Parch</th>\n",
       "      <th>Ticket</th>\n",
       "      <th>Fare</th>\n",
       "      <th>Cabin</th>\n",
       "      <th>Embarked</th>\n",
       "    </tr>\n",
       "  </thead>\n",
       "  <tbody>\n",
       "    <tr>\n",
       "      <th>0</th>\n",
       "      <td>1</td>\n",
       "      <td>0</td>\n",
       "      <td>3</td>\n",
       "      <td>Braund, Mr. Owen Harris</td>\n",
       "      <td>male</td>\n",
       "      <td>22.0</td>\n",
       "      <td>1</td>\n",
       "      <td>0</td>\n",
       "      <td>A/5 21171</td>\n",
       "      <td>7.2500</td>\n",
       "      <td>NaN</td>\n",
       "      <td>S</td>\n",
       "    </tr>\n",
       "    <tr>\n",
       "      <th>1</th>\n",
       "      <td>2</td>\n",
       "      <td>1</td>\n",
       "      <td>1</td>\n",
       "      <td>Cumings, Mrs. John Bradley (Florence Briggs Th...</td>\n",
       "      <td>female</td>\n",
       "      <td>38.0</td>\n",
       "      <td>1</td>\n",
       "      <td>0</td>\n",
       "      <td>PC 17599</td>\n",
       "      <td>71.2833</td>\n",
       "      <td>C85</td>\n",
       "      <td>C</td>\n",
       "    </tr>\n",
       "    <tr>\n",
       "      <th>2</th>\n",
       "      <td>3</td>\n",
       "      <td>1</td>\n",
       "      <td>3</td>\n",
       "      <td>Heikkinen, Miss. Laina</td>\n",
       "      <td>female</td>\n",
       "      <td>26.0</td>\n",
       "      <td>0</td>\n",
       "      <td>0</td>\n",
       "      <td>STON/O2. 3101282</td>\n",
       "      <td>7.9250</td>\n",
       "      <td>NaN</td>\n",
       "      <td>S</td>\n",
       "    </tr>\n",
       "    <tr>\n",
       "      <th>3</th>\n",
       "      <td>4</td>\n",
       "      <td>1</td>\n",
       "      <td>1</td>\n",
       "      <td>Futrelle, Mrs. Jacques Heath (Lily May Peel)</td>\n",
       "      <td>female</td>\n",
       "      <td>35.0</td>\n",
       "      <td>1</td>\n",
       "      <td>0</td>\n",
       "      <td>113803</td>\n",
       "      <td>53.1000</td>\n",
       "      <td>C123</td>\n",
       "      <td>S</td>\n",
       "    </tr>\n",
       "    <tr>\n",
       "      <th>4</th>\n",
       "      <td>5</td>\n",
       "      <td>0</td>\n",
       "      <td>3</td>\n",
       "      <td>Allen, Mr. William Henry</td>\n",
       "      <td>male</td>\n",
       "      <td>35.0</td>\n",
       "      <td>0</td>\n",
       "      <td>0</td>\n",
       "      <td>373450</td>\n",
       "      <td>8.0500</td>\n",
       "      <td>NaN</td>\n",
       "      <td>S</td>\n",
       "    </tr>\n",
       "  </tbody>\n",
       "</table>\n",
       "</div>"
      ],
      "text/plain": [
       "   PassengerId  Survived  Pclass  \\\n",
       "0            1         0       3   \n",
       "1            2         1       1   \n",
       "2            3         1       3   \n",
       "3            4         1       1   \n",
       "4            5         0       3   \n",
       "\n",
       "                                                Name     Sex   Age  SibSp  \\\n",
       "0                            Braund, Mr. Owen Harris    male  22.0      1   \n",
       "1  Cumings, Mrs. John Bradley (Florence Briggs Th...  female  38.0      1   \n",
       "2                             Heikkinen, Miss. Laina  female  26.0      0   \n",
       "3       Futrelle, Mrs. Jacques Heath (Lily May Peel)  female  35.0      1   \n",
       "4                           Allen, Mr. William Henry    male  35.0      0   \n",
       "\n",
       "   Parch            Ticket     Fare Cabin Embarked  \n",
       "0      0         A/5 21171   7.2500   NaN        S  \n",
       "1      0          PC 17599  71.2833   C85        C  \n",
       "2      0  STON/O2. 3101282   7.9250   NaN        S  \n",
       "3      0            113803  53.1000  C123        S  \n",
       "4      0            373450   8.0500   NaN        S  "
      ]
     },
     "execution_count": 3,
     "metadata": {},
     "output_type": "execute_result"
    }
   ],
   "source": [
    "df.head()"
   ]
  },
  {
   "cell_type": "code",
   "execution_count": 4,
   "metadata": {
    "execution": {
     "iopub.execute_input": "2020-10-01T08:47:46.788132Z",
     "iopub.status.busy": "2020-10-01T08:47:46.787122Z",
     "iopub.status.idle": "2020-10-01T08:47:46.791519Z",
     "shell.execute_reply": "2020-10-01T08:47:46.792010Z"
    },
    "papermill": {
     "duration": 0.089399,
     "end_time": "2020-10-01T08:47:46.792175",
     "exception": false,
     "start_time": "2020-10-01T08:47:46.702776",
     "status": "completed"
    },
    "tags": []
   },
   "outputs": [
    {
     "data": {
      "text/plain": [
       "(891, 12)"
      ]
     },
     "execution_count": 4,
     "metadata": {},
     "output_type": "execute_result"
    }
   ],
   "source": [
    "df.shape"
   ]
  },
  {
   "cell_type": "code",
   "execution_count": 5,
   "metadata": {
    "execution": {
     "iopub.execute_input": "2020-10-01T08:47:46.962152Z",
     "iopub.status.busy": "2020-10-01T08:47:46.960982Z",
     "iopub.status.idle": "2020-10-01T08:47:46.963842Z",
     "shell.execute_reply": "2020-10-01T08:47:46.964380Z"
    },
    "papermill": {
     "duration": 0.09166,
     "end_time": "2020-10-01T08:47:46.964577",
     "exception": false,
     "start_time": "2020-10-01T08:47:46.872917",
     "status": "completed"
    },
    "tags": []
   },
   "outputs": [],
   "source": [
    "#pour les pie chart\n",
    "def make_autopct(values):\n",
    "    def my_autopct(pct):\n",
    "        total = sum(values)\n",
    "        val = int(round(pct*total/100.0))\n",
    "        return '{p:.2f}%  ({v:d})'.format(p=pct,v=val)\n",
    "    return my_autopct"
   ]
  },
  {
   "cell_type": "code",
   "execution_count": 6,
   "metadata": {
    "execution": {
     "iopub.execute_input": "2020-10-01T08:47:47.131856Z",
     "iopub.status.busy": "2020-10-01T08:47:47.131150Z",
     "iopub.status.idle": "2020-10-01T08:47:47.139921Z",
     "shell.execute_reply": "2020-10-01T08:47:47.140492Z"
    },
    "papermill": {
     "duration": 0.093261,
     "end_time": "2020-10-01T08:47:47.140651",
     "exception": false,
     "start_time": "2020-10-01T08:47:47.047390",
     "status": "completed"
    },
    "tags": []
   },
   "outputs": [],
   "source": [
    "#pour les countplot\n",
    "def countplot_with_percent(x,hue):\n",
    "    df1 = df.groupby(x)[hue].value_counts(normalize=True)\n",
    "    df1 = df1.mul(100)\n",
    "    df1 = df1.rename('percent').reset_index()\n",
    "\n",
    "    g = sns.catplot(x=x,y='percent',hue=hue,kind='bar',data=df1)\n",
    "    g.ax.set_ylim(0,100)\n",
    "\n",
    "    for p in g.ax.patches:\n",
    "        txt = str(p.get_height().round(2)) + '%'\n",
    "        txt_x = p.get_x() \n",
    "        txt_y = p.get_height()\n",
    "        g.ax.text(txt_x,txt_y,txt)"
   ]
  },
  {
   "cell_type": "code",
   "execution_count": 7,
   "metadata": {
    "execution": {
     "iopub.execute_input": "2020-10-01T08:47:47.303183Z",
     "iopub.status.busy": "2020-10-01T08:47:47.302415Z",
     "iopub.status.idle": "2020-10-01T08:47:47.464557Z",
     "shell.execute_reply": "2020-10-01T08:47:47.463894Z"
    },
    "papermill": {
     "duration": 0.245289,
     "end_time": "2020-10-01T08:47:47.464677",
     "exception": false,
     "start_time": "2020-10-01T08:47:47.219388",
     "status": "completed"
    },
    "tags": []
   },
   "outputs": [
    {
     "data": {
      "text/plain": [
       "<matplotlib.axes._subplots.AxesSubplot at 0x7fdcade56b90>"
      ]
     },
     "execution_count": 7,
     "metadata": {},
     "output_type": "execute_result"
    },
    {
     "data": {
      "image/png": "[encoded data removed]",
      "text/plain": [
       "<Figure size 360x360 with 1 Axes>"
      ]
     },
     "metadata": {},
     "output_type": "display_data"
    }
   ],
   "source": [
    "plt.figure(figsize=(5,5))\n",
    "df.dtypes.value_counts().plot.pie(label='Répartition des types de données',\n",
    "                                  autopct=make_autopct(df.dtypes.value_counts()))"
   ]
  },
  {
   "cell_type": "code",
   "execution_count": 8,
   "metadata": {
    "execution": {
     "iopub.execute_input": "2020-10-01T08:47:47.636589Z",
     "iopub.status.busy": "2020-10-01T08:47:47.635898Z",
     "iopub.status.idle": "2020-10-01T08:47:47.641674Z",
     "shell.execute_reply": "2020-10-01T08:47:47.641012Z"
    },
    "papermill": {
     "duration": 0.096387,
     "end_time": "2020-10-01T08:47:47.641820",
     "exception": false,
     "start_time": "2020-10-01T08:47:47.545433",
     "status": "completed"
    },
    "tags": []
   },
   "outputs": [
    {
     "data": {
      "text/plain": [
       "PassengerId      0\n",
       "Survived         0\n",
       "Pclass           0\n",
       "Name             0\n",
       "Sex              0\n",
       "Age            177\n",
       "SibSp            0\n",
       "Parch            0\n",
       "Ticket           0\n",
       "Fare             0\n",
       "Cabin          687\n",
       "Embarked         2\n",
       "dtype: int64"
      ]
     },
     "execution_count": 8,
     "metadata": {},
     "output_type": "execute_result"
    }
   ],
   "source": [
    "df.isna().sum(axis=0)"
   ]
  },
  {
   "cell_type": "code",
   "execution_count": 9,
   "metadata": {
    "execution": {
     "iopub.execute_input": "2020-10-01T08:47:47.806837Z",
     "iopub.status.busy": "2020-10-01T08:47:47.806214Z",
     "iopub.status.idle": "2020-10-01T08:47:48.324990Z",
     "shell.execute_reply": "2020-10-01T08:47:48.325532Z"
    },
    "papermill": {
     "duration": 0.603251,
     "end_time": "2020-10-01T08:47:48.325677",
     "exception": false,
     "start_time": "2020-10-01T08:47:47.722426",
     "status": "completed"
    },
    "tags": []
   },
   "outputs": [
    {
     "data": {
      "text/plain": [
       "<matplotlib.axes._subplots.AxesSubplot at 0x7fdcae08d410>"
      ]
     },
     "execution_count": 9,
     "metadata": {},
     "output_type": "execute_result"
    },
    {
     "data": {
      "image/png": "[encoded data removed]",
      "text/plain": [
       "<Figure size 720x504 with 2 Axes>"
      ]
     },
     "metadata": {
      "needs_background": "light"
     },
     "output_type": "display_data"
    }
   ],
   "source": [
    "plt.figure(figsize=(10,7))\n",
    "sns.heatmap(data=df.isna())"
   ]
  },
  {
   "cell_type": "code",
   "execution_count": 10,
   "metadata": {
    "execution": {
     "iopub.execute_input": "2020-10-01T08:47:48.501021Z",
     "iopub.status.busy": "2020-10-01T08:47:48.498920Z",
     "iopub.status.idle": "2020-10-01T08:47:48.504106Z",
     "shell.execute_reply": "2020-10-01T08:47:48.504747Z"
    },
    "papermill": {
     "duration": 0.094998,
     "end_time": "2020-10-01T08:47:48.504920",
     "exception": false,
     "start_time": "2020-10-01T08:47:48.409922",
     "status": "completed"
    },
    "tags": []
   },
   "outputs": [
    {
     "data": {
      "text/plain": [
       "PassengerId    0.000000\n",
       "Survived       0.000000\n",
       "Pclass         0.000000\n",
       "Name           0.000000\n",
       "Sex            0.000000\n",
       "SibSp          0.000000\n",
       "Parch          0.000000\n",
       "Ticket         0.000000\n",
       "Fare           0.000000\n",
       "Embarked       0.002245\n",
       "Age            0.198653\n",
       "Cabin          0.771044\n",
       "dtype: float64"
      ]
     },
     "execution_count": 10,
     "metadata": {},
     "output_type": "execute_result"
    }
   ],
   "source": [
    "(df.isna().sum()/df.shape[0]).sort_values()"
   ]
  },
  {
   "cell_type": "markdown",
   "metadata": {
    "papermill": {
     "duration": 0.081818,
     "end_time": "2020-10-01T08:47:48.668479",
     "exception": false,
     "start_time": "2020-10-01T08:47:48.586661",
     "status": "completed"
    },
    "tags": []
   },
   "source": [
    "# Analyse du fond"
   ]
  },
  {
   "cell_type": "markdown",
   "metadata": {
    "papermill": {
     "duration": 0.082704,
     "end_time": "2020-10-01T08:47:48.833726",
     "exception": false,
     "start_time": "2020-10-01T08:47:48.751022",
     "status": "completed"
    },
    "tags": []
   },
   "source": [
    "# Elimination des variables inutiles"
   ]
  },
  {
   "cell_type": "code",
   "execution_count": 11,
   "metadata": {
    "execution": {
     "iopub.execute_input": "2020-10-01T08:47:49.002716Z",
     "iopub.status.busy": "2020-10-01T08:47:49.002037Z",
     "iopub.status.idle": "2020-10-01T08:47:49.010299Z",
     "shell.execute_reply": "2020-10-01T08:47:49.010863Z"
    },
    "papermill": {
     "duration": 0.094512,
     "end_time": "2020-10-01T08:47:49.011009",
     "exception": false,
     "start_time": "2020-10-01T08:47:48.916497",
     "status": "completed"
    },
    "tags": []
   },
   "outputs": [],
   "source": [
    "df.drop(['PassengerId','Cabin','Name','Ticket'],axis=1,inplace=True)\n"
   ]
  },
  {
   "cell_type": "code",
   "execution_count": 12,
   "metadata": {
    "execution": {
     "iopub.execute_input": "2020-10-01T08:47:49.179928Z",
     "iopub.status.busy": "2020-10-01T08:47:49.179201Z",
     "iopub.status.idle": "2020-10-01T08:47:49.186378Z",
     "shell.execute_reply": "2020-10-01T08:47:49.186963Z"
    },
    "papermill": {
     "duration": 0.094231,
     "end_time": "2020-10-01T08:47:49.187122",
     "exception": false,
     "start_time": "2020-10-01T08:47:49.092891",
     "status": "completed"
    },
    "tags": []
   },
   "outputs": [],
   "source": [
    "df.dropna(axis=0, subset=['Embarked'],inplace=True)"
   ]
  },
  {
   "cell_type": "code",
   "execution_count": 13,
   "metadata": {
    "execution": {
     "iopub.execute_input": "2020-10-01T08:47:49.407590Z",
     "iopub.status.busy": "2020-10-01T08:47:49.406912Z",
     "iopub.status.idle": "2020-10-01T08:47:49.413603Z",
     "shell.execute_reply": "2020-10-01T08:47:49.414458Z"
    },
    "papermill": {
     "duration": 0.144011,
     "end_time": "2020-10-01T08:47:49.414637",
     "exception": false,
     "start_time": "2020-10-01T08:47:49.270626",
     "status": "completed"
    },
    "tags": []
   },
   "outputs": [
    {
     "data": {
      "text/plain": [
       "(889, 8)"
      ]
     },
     "execution_count": 13,
     "metadata": {},
     "output_type": "execute_result"
    }
   ],
   "source": [
    "df.shape"
   ]
  },
  {
   "cell_type": "code",
   "execution_count": 14,
   "metadata": {
    "execution": {
     "iopub.execute_input": "2020-10-01T08:47:49.586744Z",
     "iopub.status.busy": "2020-10-01T08:47:49.585745Z",
     "iopub.status.idle": "2020-10-01T08:47:49.599915Z",
     "shell.execute_reply": "2020-10-01T08:47:49.600393Z"
    },
    "papermill": {
     "duration": 0.101655,
     "end_time": "2020-10-01T08:47:49.600561",
     "exception": false,
     "start_time": "2020-10-01T08:47:49.498906",
     "status": "completed"
    },
    "tags": []
   },
   "outputs": [
    {
     "data": {
      "text/html": [
       "<div>\n",
       "<style scoped>\n",
       "    .dataframe tbody tr th:only-of-type {\n",
       "        vertical-align: middle;\n",
       "    }\n",
       "\n",
       "    .dataframe tbody tr th {\n",
       "        vertical-align: top;\n",
       "    }\n",
       "\n",
       "    .dataframe thead th {\n",
       "        text-align: right;\n",
       "    }\n",
       "</style>\n",
       "<table border=\"1\" class=\"dataframe\">\n",
       "  <thead>\n",
       "    <tr style=\"text-align: right;\">\n",
       "      <th></th>\n",
       "      <th>Survived</th>\n",
       "      <th>Pclass</th>\n",
       "      <th>Sex</th>\n",
       "      <th>Age</th>\n",
       "      <th>SibSp</th>\n",
       "      <th>Parch</th>\n",
       "      <th>Fare</th>\n",
       "      <th>Embarked</th>\n",
       "    </tr>\n",
       "  </thead>\n",
       "  <tbody>\n",
       "    <tr>\n",
       "      <th>0</th>\n",
       "      <td>0</td>\n",
       "      <td>3</td>\n",
       "      <td>male</td>\n",
       "      <td>22.0</td>\n",
       "      <td>1</td>\n",
       "      <td>0</td>\n",
       "      <td>7.2500</td>\n",
       "      <td>S</td>\n",
       "    </tr>\n",
       "    <tr>\n",
       "      <th>1</th>\n",
       "      <td>1</td>\n",
       "      <td>1</td>\n",
       "      <td>female</td>\n",
       "      <td>38.0</td>\n",
       "      <td>1</td>\n",
       "      <td>0</td>\n",
       "      <td>71.2833</td>\n",
       "      <td>C</td>\n",
       "    </tr>\n",
       "    <tr>\n",
       "      <th>2</th>\n",
       "      <td>1</td>\n",
       "      <td>3</td>\n",
       "      <td>female</td>\n",
       "      <td>26.0</td>\n",
       "      <td>0</td>\n",
       "      <td>0</td>\n",
       "      <td>7.9250</td>\n",
       "      <td>S</td>\n",
       "    </tr>\n",
       "    <tr>\n",
       "      <th>3</th>\n",
       "      <td>1</td>\n",
       "      <td>1</td>\n",
       "      <td>female</td>\n",
       "      <td>35.0</td>\n",
       "      <td>1</td>\n",
       "      <td>0</td>\n",
       "      <td>53.1000</td>\n",
       "      <td>S</td>\n",
       "    </tr>\n",
       "    <tr>\n",
       "      <th>4</th>\n",
       "      <td>0</td>\n",
       "      <td>3</td>\n",
       "      <td>male</td>\n",
       "      <td>35.0</td>\n",
       "      <td>0</td>\n",
       "      <td>0</td>\n",
       "      <td>8.0500</td>\n",
       "      <td>S</td>\n",
       "    </tr>\n",
       "  </tbody>\n",
       "</table>\n",
       "</div>"
      ],
      "text/plain": [
       "   Survived  Pclass     Sex   Age  SibSp  Parch     Fare Embarked\n",
       "0         0       3    male  22.0      1      0   7.2500        S\n",
       "1         1       1  female  38.0      1      0  71.2833        C\n",
       "2         1       3  female  26.0      0      0   7.9250        S\n",
       "3         1       1  female  35.0      1      0  53.1000        S\n",
       "4         0       3    male  35.0      0      0   8.0500        S"
      ]
     },
     "execution_count": 14,
     "metadata": {},
     "output_type": "execute_result"
    }
   ],
   "source": [
    "df.head()"
   ]
  },
  {
   "cell_type": "markdown",
   "metadata": {
    "papermill": {
     "duration": 0.085001,
     "end_time": "2020-10-01T08:47:49.769552",
     "exception": false,
     "start_time": "2020-10-01T08:47:49.684551",
     "status": "completed"
    },
    "tags": []
   },
   "source": [
    "# Visualisation de la target"
   ]
  },
  {
   "cell_type": "code",
   "execution_count": 15,
   "metadata": {
    "execution": {
     "iopub.execute_input": "2020-10-01T08:47:49.946535Z",
     "iopub.status.busy": "2020-10-01T08:47:49.945424Z",
     "iopub.status.idle": "2020-10-01T08:47:50.008386Z",
     "shell.execute_reply": "2020-10-01T08:47:50.008888Z"
    },
    "papermill": {
     "duration": 0.153417,
     "end_time": "2020-10-01T08:47:50.009047",
     "exception": false,
     "start_time": "2020-10-01T08:47:49.855630",
     "status": "completed"
    },
    "tags": []
   },
   "outputs": [
    {
     "data": {
      "text/plain": [
       "<matplotlib.axes._subplots.AxesSubplot at 0x7fdcab79cc50>"
      ]
     },
     "execution_count": 15,
     "metadata": {},
     "output_type": "execute_result"
    },
    {
     "data": {
      "image/png": "[encoded data removed]",
      "text/plain": [
       "<Figure size 432x288 with 1 Axes>"
      ]
     },
     "metadata": {},
     "output_type": "display_data"
    }
   ],
   "source": [
    "df['Survived'].value_counts().plot.pie(autopct=make_autopct(df['Survived'].value_counts()))"
   ]
  },
  {
   "cell_type": "markdown",
   "metadata": {
    "papermill": {
     "duration": 0.086621,
     "end_time": "2020-10-01T08:47:50.180778",
     "exception": false,
     "start_time": "2020-10-01T08:47:50.094157",
     "status": "completed"
    },
    "tags": []
   },
   "source": [
    "# Histogramme variable continue"
   ]
  },
  {
   "cell_type": "code",
   "execution_count": 16,
   "metadata": {
    "execution": {
     "iopub.execute_input": "2020-10-01T08:47:50.355001Z",
     "iopub.status.busy": "2020-10-01T08:47:50.353965Z",
     "iopub.status.idle": "2020-10-01T08:47:50.870623Z",
     "shell.execute_reply": "2020-10-01T08:47:50.871113Z"
    },
    "papermill": {
     "duration": 0.605343,
     "end_time": "2020-10-01T08:47:50.871269",
     "exception": false,
     "start_time": "2020-10-01T08:47:50.265926",
     "status": "completed"
    },
    "tags": []
   },
   "outputs": [
    {
     "data": {
      "image/png": "[encoded data removed]",
      "text/plain": [
       "<Figure size 432x288 with 1 Axes>"
      ]
     },
     "metadata": {
      "needs_background": "light"
     },
     "output_type": "display_data"
    },
    {
     "data": {
      "image/png": "[encoded data removed]",
      "text/plain": [
       "<Figure size 432x288 with 1 Axes>"
      ]
     },
     "metadata": {
      "needs_background": "light"
     },
     "output_type": "display_data"
    }
   ],
   "source": [
    "for col in df.select_dtypes('float64'):\n",
    "    plt.figure()\n",
    "    sns.distplot(df[col])"
   ]
  },
  {
   "cell_type": "code",
   "execution_count": 17,
   "metadata": {
    "execution": {
     "iopub.execute_input": "2020-10-01T08:47:51.048652Z",
     "iopub.status.busy": "2020-10-01T08:47:51.047619Z",
     "iopub.status.idle": "2020-10-01T08:47:51.589682Z",
     "shell.execute_reply": "2020-10-01T08:47:51.588770Z"
    },
    "papermill": {
     "duration": 0.631864,
     "end_time": "2020-10-01T08:47:51.589857",
     "exception": false,
     "start_time": "2020-10-01T08:47:50.957993",
     "status": "completed"
    },
    "tags": []
   },
   "outputs": [
    {
     "data": {
      "image/png": "[encoded data removed]",
      "text/plain": [
       "<Figure size 432x288 with 1 Axes>"
      ]
     },
     "metadata": {
      "needs_background": "light"
     },
     "output_type": "display_data"
    },
    {
     "data": {
      "image/png": "[encoded data removed]",
      "text/plain": [
       "<Figure size 432x288 with 1 Axes>"
      ]
     },
     "metadata": {
      "needs_background": "light"
     },
     "output_type": "display_data"
    },
    {
     "data": {
      "image/png": "[encoded data removed]",
      "text/plain": [
       "<Figure size 432x288 with 1 Axes>"
      ]
     },
     "metadata": {
      "needs_background": "light"
     },
     "output_type": "display_data"
    },
    {
     "data": {
      "image/png": "[encoded data removed]",
      "text/plain": [
       "<Figure size 432x288 with 1 Axes>"
      ]
     },
     "metadata": {
      "needs_background": "light"
     },
     "output_type": "display_data"
    }
   ],
   "source": [
    "for col in df.select_dtypes('int64'):\n",
    "    plt.figure()\n",
    "    sns.countplot(df[col])"
   ]
  },
  {
   "cell_type": "markdown",
   "metadata": {
    "papermill": {
     "duration": 0.143216,
     "end_time": "2020-10-01T08:47:51.827983",
     "exception": false,
     "start_time": "2020-10-01T08:47:51.684767",
     "status": "completed"
    },
    "tags": []
   },
   "source": [
    "# Histogramme variable qualitative"
   ]
  },
  {
   "cell_type": "code",
   "execution_count": 18,
   "metadata": {
    "execution": {
     "iopub.execute_input": "2020-10-01T08:47:52.110663Z",
     "iopub.status.busy": "2020-10-01T08:47:52.109689Z",
     "iopub.status.idle": "2020-10-01T08:47:52.119810Z",
     "shell.execute_reply": "2020-10-01T08:47:52.118939Z"
    },
    "papermill": {
     "duration": 0.175636,
     "end_time": "2020-10-01T08:47:52.120060",
     "exception": false,
     "start_time": "2020-10-01T08:47:51.944424",
     "status": "completed"
    },
    "tags": []
   },
   "outputs": [
    {
     "name": "stdout",
     "output_type": "stream",
     "text": [
      "Sex--------------------------- ['male' 'female']\n",
      "Embarked---------------------- ['S' 'C' 'Q']\n"
     ]
    }
   ],
   "source": [
    "for col in df.select_dtypes('object'):\n",
    "    print(f'{col:-<30} {df[col].unique()}')"
   ]
  },
  {
   "cell_type": "code",
   "execution_count": 19,
   "metadata": {
    "execution": {
     "iopub.execute_input": "2020-10-01T08:47:52.431868Z",
     "iopub.status.busy": "2020-10-01T08:47:52.431033Z",
     "iopub.status.idle": "2020-10-01T08:47:52.562977Z",
     "shell.execute_reply": "2020-10-01T08:47:52.562364Z"
    },
    "papermill": {
     "duration": 0.291142,
     "end_time": "2020-10-01T08:47:52.563108",
     "exception": false,
     "start_time": "2020-10-01T08:47:52.271966",
     "status": "completed"
    },
    "tags": []
   },
   "outputs": [
    {
     "data": {
      "image/png": "[encoded data removed]",
      "text/plain": [
       "<Figure size 432x288 with 1 Axes>"
      ]
     },
     "metadata": {},
     "output_type": "display_data"
    },
    {
     "data": {
      "image/png": "[encoded data removed]",
      "text/plain": [
       "<Figure size 432x288 with 1 Axes>"
      ]
     },
     "metadata": {},
     "output_type": "display_data"
    }
   ],
   "source": [
    "for col in df.select_dtypes('object'):\n",
    "    plt.figure()\n",
    "    df[col].value_counts().plot.pie(autopct=make_autopct(df[col].value_counts()))"
   ]
  },
  {
   "cell_type": "markdown",
   "metadata": {
    "papermill": {
     "duration": 0.094227,
     "end_time": "2020-10-01T08:47:52.752453",
     "exception": false,
     "start_time": "2020-10-01T08:47:52.658226",
     "status": "completed"
    },
    "tags": []
   },
   "source": [
    "# Création des sous-ensembles Vivant/dead"
   ]
  },
  {
   "cell_type": "code",
   "execution_count": 20,
   "metadata": {
    "execution": {
     "iopub.execute_input": "2020-10-01T08:47:52.944712Z",
     "iopub.status.busy": "2020-10-01T08:47:52.944030Z",
     "iopub.status.idle": "2020-10-01T08:47:52.951999Z",
     "shell.execute_reply": "2020-10-01T08:47:52.952507Z"
    },
    "papermill": {
     "duration": 0.1059,
     "end_time": "2020-10-01T08:47:52.952667",
     "exception": false,
     "start_time": "2020-10-01T08:47:52.846767",
     "status": "completed"
    },
    "tags": []
   },
   "outputs": [],
   "source": [
    "df_vivant=df[df['Survived']==1]\n",
    "df_dead=df[df['Survived']==0]"
   ]
  },
  {
   "cell_type": "markdown",
   "metadata": {
    "papermill": {
     "duration": 0.094081,
     "end_time": "2020-10-01T08:47:53.139220",
     "exception": false,
     "start_time": "2020-10-01T08:47:53.045139",
     "status": "completed"
    },
    "tags": []
   },
   "source": [
    "# Création de la catégorie 'a de la famille'"
   ]
  },
  {
   "cell_type": "code",
   "execution_count": 21,
   "metadata": {
    "execution": {
     "iopub.execute_input": "2020-10-01T08:47:53.358652Z",
     "iopub.status.busy": "2020-10-01T08:47:53.358003Z",
     "iopub.status.idle": "2020-10-01T08:47:53.362982Z",
     "shell.execute_reply": "2020-10-01T08:47:53.363510Z"
    },
    "papermill": {
     "duration": 0.118941,
     "end_time": "2020-10-01T08:47:53.363655",
     "exception": false,
     "start_time": "2020-10-01T08:47:53.244714",
     "status": "completed"
    },
    "tags": []
   },
   "outputs": [],
   "source": [
    "fam_col=['SibSp','Parch']"
   ]
  },
  {
   "cell_type": "code",
   "execution_count": 22,
   "metadata": {
    "execution": {
     "iopub.execute_input": "2020-10-01T08:47:53.560990Z",
     "iopub.status.busy": "2020-10-01T08:47:53.560277Z",
     "iopub.status.idle": "2020-10-01T08:47:53.563413Z",
     "shell.execute_reply": "2020-10-01T08:47:53.562871Z"
    },
    "papermill": {
     "duration": 0.105576,
     "end_time": "2020-10-01T08:47:53.563546",
     "exception": false,
     "start_time": "2020-10-01T08:47:53.457970",
     "status": "completed"
    },
    "tags": []
   },
   "outputs": [],
   "source": [
    "df['famille']=np.sum(df[fam_col],axis=1)>=1"
   ]
  },
  {
   "cell_type": "code",
   "execution_count": 23,
   "metadata": {
    "execution": {
     "iopub.execute_input": "2020-10-01T08:47:53.760187Z",
     "iopub.status.busy": "2020-10-01T08:47:53.759452Z",
     "iopub.status.idle": "2020-10-01T08:47:53.770266Z",
     "shell.execute_reply": "2020-10-01T08:47:53.770977Z"
    },
    "papermill": {
     "duration": 0.111242,
     "end_time": "2020-10-01T08:47:53.771131",
     "exception": false,
     "start_time": "2020-10-01T08:47:53.659889",
     "status": "completed"
    },
    "tags": []
   },
   "outputs": [
    {
     "data": {
      "text/plain": [
       "False    0.6018\n",
       "True     0.3982\n",
       "Name: famille, dtype: float64"
      ]
     },
     "execution_count": 23,
     "metadata": {},
     "output_type": "execute_result"
    }
   ],
   "source": [
    "df['famille'].value_counts(normalize=True)"
   ]
  },
  {
   "cell_type": "markdown",
   "metadata": {
    "papermill": {
     "duration": 0.095099,
     "end_time": "2020-10-01T08:47:53.983939",
     "exception": false,
     "start_time": "2020-10-01T08:47:53.888840",
     "status": "completed"
    },
    "tags": []
   },
   "source": [
    "# Création d'une variable who"
   ]
  },
  {
   "cell_type": "code",
   "execution_count": 24,
   "metadata": {
    "execution": {
     "iopub.execute_input": "2020-10-01T08:47:54.177757Z",
     "iopub.status.busy": "2020-10-01T08:47:54.177105Z",
     "iopub.status.idle": "2020-10-01T08:47:54.183382Z",
     "shell.execute_reply": "2020-10-01T08:47:54.184043Z"
    },
    "papermill": {
     "duration": 0.106104,
     "end_time": "2020-10-01T08:47:54.184187",
     "exception": false,
     "start_time": "2020-10-01T08:47:54.078083",
     "status": "completed"
    },
    "tags": []
   },
   "outputs": [],
   "source": [
    "def who(df):\n",
    "    if df['Age']<16.0:\n",
    "        return 'child'\n",
    "    elif df['Sex']=='male':\n",
    "        return 'male'\n",
    "    elif df['Sex']=='female':\n",
    "        return 'female'"
   ]
  },
  {
   "cell_type": "code",
   "execution_count": 25,
   "metadata": {
    "execution": {
     "iopub.execute_input": "2020-10-01T08:47:54.377532Z",
     "iopub.status.busy": "2020-10-01T08:47:54.376821Z",
     "iopub.status.idle": "2020-10-01T08:47:54.406972Z",
     "shell.execute_reply": "2020-10-01T08:47:54.406346Z"
    },
    "papermill": {
     "duration": 0.127741,
     "end_time": "2020-10-01T08:47:54.407107",
     "exception": false,
     "start_time": "2020-10-01T08:47:54.279366",
     "status": "completed"
    },
    "tags": []
   },
   "outputs": [],
   "source": [
    "df['who']=df.apply(who,axis=1)"
   ]
  },
  {
   "cell_type": "code",
   "execution_count": 26,
   "metadata": {
    "execution": {
     "iopub.execute_input": "2020-10-01T08:47:54.607629Z",
     "iopub.status.busy": "2020-10-01T08:47:54.606954Z",
     "iopub.status.idle": "2020-10-01T08:47:54.611425Z",
     "shell.execute_reply": "2020-10-01T08:47:54.610891Z"
    },
    "papermill": {
     "duration": 0.108596,
     "end_time": "2020-10-01T08:47:54.611541",
     "exception": false,
     "start_time": "2020-10-01T08:47:54.502945",
     "status": "completed"
    },
    "tags": []
   },
   "outputs": [
    {
     "data": {
      "text/plain": [
       "male      537\n",
       "female    269\n",
       "child      83\n",
       "Name: who, dtype: int64"
      ]
     },
     "execution_count": 26,
     "metadata": {},
     "output_type": "execute_result"
    }
   ],
   "source": [
    "df['who'].value_counts()"
   ]
  },
  {
   "cell_type": "code",
   "execution_count": 27,
   "metadata": {
    "execution": {
     "iopub.execute_input": "2020-10-01T08:47:54.817542Z",
     "iopub.status.busy": "2020-10-01T08:47:54.816752Z",
     "iopub.status.idle": "2020-10-01T08:47:54.848672Z",
     "shell.execute_reply": "2020-10-01T08:47:54.849582Z"
    },
    "papermill": {
     "duration": 0.139896,
     "end_time": "2020-10-01T08:47:54.849766",
     "exception": false,
     "start_time": "2020-10-01T08:47:54.709870",
     "status": "completed"
    },
    "tags": []
   },
   "outputs": [
    {
     "data": {
      "text/html": [
       "<div>\n",
       "<style scoped>\n",
       "    .dataframe tbody tr th:only-of-type {\n",
       "        vertical-align: middle;\n",
       "    }\n",
       "\n",
       "    .dataframe tbody tr th {\n",
       "        vertical-align: top;\n",
       "    }\n",
       "\n",
       "    .dataframe thead th {\n",
       "        text-align: right;\n",
       "    }\n",
       "</style>\n",
       "<table border=\"1\" class=\"dataframe\">\n",
       "  <thead>\n",
       "    <tr style=\"text-align: right;\">\n",
       "      <th>famille</th>\n",
       "      <th>False</th>\n",
       "      <th>True</th>\n",
       "    </tr>\n",
       "    <tr>\n",
       "      <th>who</th>\n",
       "      <th></th>\n",
       "      <th></th>\n",
       "    </tr>\n",
       "  </thead>\n",
       "  <tbody>\n",
       "    <tr>\n",
       "      <th>child</th>\n",
       "      <td>6</td>\n",
       "      <td>77</td>\n",
       "    </tr>\n",
       "    <tr>\n",
       "      <th>female</th>\n",
       "      <td>119</td>\n",
       "      <td>150</td>\n",
       "    </tr>\n",
       "    <tr>\n",
       "      <th>male</th>\n",
       "      <td>410</td>\n",
       "      <td>127</td>\n",
       "    </tr>\n",
       "  </tbody>\n",
       "</table>\n",
       "</div>"
      ],
      "text/plain": [
       "famille  False  True \n",
       "who                  \n",
       "child        6     77\n",
       "female     119    150\n",
       "male       410    127"
      ]
     },
     "execution_count": 27,
     "metadata": {},
     "output_type": "execute_result"
    }
   ],
   "source": [
    "pd.crosstab(df['who'],df['famille'])"
   ]
  },
  {
   "cell_type": "markdown",
   "metadata": {
    "papermill": {
     "duration": 0.094647,
     "end_time": "2020-10-01T08:47:55.048258",
     "exception": false,
     "start_time": "2020-10-01T08:47:54.953611",
     "status": "completed"
    },
    "tags": []
   },
   "source": [
    "# Targe/age"
   ]
  },
  {
   "cell_type": "code",
   "execution_count": 28,
   "metadata": {
    "execution": {
     "iopub.execute_input": "2020-10-01T08:47:55.252335Z",
     "iopub.status.busy": "2020-10-01T08:47:55.251290Z",
     "iopub.status.idle": "2020-10-01T08:47:55.523529Z",
     "shell.execute_reply": "2020-10-01T08:47:55.524038Z"
    },
    "papermill": {
     "duration": 0.381775,
     "end_time": "2020-10-01T08:47:55.524199",
     "exception": false,
     "start_time": "2020-10-01T08:47:55.142424",
     "status": "completed"
    },
    "tags": []
   },
   "outputs": [
    {
     "data": {
      "text/plain": [
       "<matplotlib.legend.Legend at 0x7fdcab51ba10>"
      ]
     },
     "execution_count": 28,
     "metadata": {},
     "output_type": "execute_result"
    },
    {
     "data": {
      "image/png": "[encoded data removed]",
      "text/plain": [
       "<Figure size 432x288 with 1 Axes>"
      ]
     },
     "metadata": {
      "needs_background": "light"
     },
     "output_type": "display_data"
    }
   ],
   "source": [
    "plt.figure()\n",
    "sns.distplot(df_vivant['Age'],label='Vivant')\n",
    "sns.distplot(df_dead['Age'],label='Dead')\n",
    "plt.legend()"
   ]
  },
  {
   "cell_type": "markdown",
   "metadata": {
    "papermill": {
     "duration": 0.097688,
     "end_time": "2020-10-01T08:47:55.719948",
     "exception": false,
     "start_time": "2020-10-01T08:47:55.622260",
     "status": "completed"
    },
    "tags": []
   },
   "source": [
    "# Target/ Pclass et Target/Prix"
   ]
  },
  {
   "cell_type": "code",
   "execution_count": 29,
   "metadata": {
    "execution": {
     "iopub.execute_input": "2020-10-01T08:47:55.924156Z",
     "iopub.status.busy": "2020-10-01T08:47:55.923171Z",
     "iopub.status.idle": "2020-10-01T08:47:56.103156Z",
     "shell.execute_reply": "2020-10-01T08:47:56.102381Z"
    },
    "papermill": {
     "duration": 0.285649,
     "end_time": "2020-10-01T08:47:56.103284",
     "exception": false,
     "start_time": "2020-10-01T08:47:55.817635",
     "status": "completed"
    },
    "tags": []
   },
   "outputs": [
    {
     "data": {
      "image/png": "[encoded data removed]",
      "text/plain": [
       "<Figure size 432x288 with 1 Axes>"
      ]
     },
     "metadata": {
      "needs_background": "light"
     },
     "output_type": "display_data"
    }
   ],
   "source": [
    "plt.figure()\n",
    "sns.countplot(data=df,x='Pclass',hue='Survived')\n",
    "plt.legend()\n",
    "plt.grid()"
   ]
  },
  {
   "cell_type": "code",
   "execution_count": 30,
   "metadata": {
    "execution": {
     "iopub.execute_input": "2020-10-01T08:47:56.323088Z",
     "iopub.status.busy": "2020-10-01T08:47:56.321936Z",
     "iopub.status.idle": "2020-10-01T08:47:56.734031Z",
     "shell.execute_reply": "2020-10-01T08:47:56.734604Z"
    },
    "papermill": {
     "duration": 0.530028,
     "end_time": "2020-10-01T08:47:56.734762",
     "exception": false,
     "start_time": "2020-10-01T08:47:56.204734",
     "status": "completed"
    },
    "tags": []
   },
   "outputs": [
    {
     "data": {
      "text/plain": [
       "<matplotlib.legend.Legend at 0x7fdcab2f2f10>"
      ]
     },
     "execution_count": 30,
     "metadata": {},
     "output_type": "execute_result"
    },
    {
     "data": {
      "image/png": "[encoded data removed]",
      "text/plain": [
       "<Figure size 432x288 with 1 Axes>"
      ]
     },
     "metadata": {
      "needs_background": "light"
     },
     "output_type": "display_data"
    }
   ],
   "source": [
    "plt.figure()\n",
    "sns.distplot(df_vivant['Fare'],label='Vivant')\n",
    "sns.distplot(df_dead['Fare'],label='Dead')\n",
    "plt.xlim(-5,100)\n",
    "plt.legend()"
   ]
  },
  {
   "cell_type": "markdown",
   "metadata": {
    "papermill": {
     "duration": 0.104216,
     "end_time": "2020-10-01T08:47:56.943531",
     "exception": false,
     "start_time": "2020-10-01T08:47:56.839315",
     "status": "completed"
    },
    "tags": []
   },
   "source": [
    "# Target/who"
   ]
  },
  {
   "cell_type": "code",
   "execution_count": 31,
   "metadata": {
    "execution": {
     "iopub.execute_input": "2020-10-01T08:47:57.188735Z",
     "iopub.status.busy": "2020-10-01T08:47:57.187651Z",
     "iopub.status.idle": "2020-10-01T08:47:57.731400Z",
     "shell.execute_reply": "2020-10-01T08:47:57.732127Z"
    },
    "papermill": {
     "duration": 0.688628,
     "end_time": "2020-10-01T08:47:57.732350",
     "exception": false,
     "start_time": "2020-10-01T08:47:57.043722",
     "status": "completed"
    },
    "tags": []
   },
   "outputs": [
    {
     "data": {
      "image/png": "[encoded data removed]",
      "text/plain": [
       "<Figure size 411.875x360 with 1 Axes>"
      ]
     },
     "metadata": {
      "needs_background": "light"
     },
     "output_type": "display_data"
    }
   ],
   "source": [
    "countplot_with_percent('who','Survived')"
   ]
  },
  {
   "cell_type": "code",
   "execution_count": 32,
   "metadata": {
    "execution": {
     "iopub.execute_input": "2020-10-01T08:47:58.008813Z",
     "iopub.status.busy": "2020-10-01T08:47:58.008039Z",
     "iopub.status.idle": "2020-10-01T08:47:58.011890Z",
     "shell.execute_reply": "2020-10-01T08:47:58.011218Z"
    },
    "papermill": {
     "duration": 0.11741,
     "end_time": "2020-10-01T08:47:58.012020",
     "exception": false,
     "start_time": "2020-10-01T08:47:57.894610",
     "status": "completed"
    },
    "tags": []
   },
   "outputs": [],
   "source": [
    "# df=titanic_data.copy()\n",
    "# df.drop(['PassengerId','Cabin','Name','Ticket'],axis=1,inplace=True)\n",
    "# df.dropna(axis=0, subset=['Embarked'],inplace=True)\n",
    "# df['who']=df.apply(who,axis=1)\n",
    "# df.head()"
   ]
  },
  {
   "cell_type": "code",
   "execution_count": 33,
   "metadata": {
    "execution": {
     "iopub.execute_input": "2020-10-01T08:47:58.228970Z",
     "iopub.status.busy": "2020-10-01T08:47:58.228151Z",
     "iopub.status.idle": "2020-10-01T08:47:58.298078Z",
     "shell.execute_reply": "2020-10-01T08:47:58.297466Z"
    },
    "papermill": {
     "duration": 0.181593,
     "end_time": "2020-10-01T08:47:58.298216",
     "exception": false,
     "start_time": "2020-10-01T08:47:58.116623",
     "status": "completed"
    },
    "tags": []
   },
   "outputs": [
    {
     "data": {
      "text/plain": [
       "<matplotlib.axes._subplots.AxesSubplot at 0x7fdcab0fc110>"
      ]
     },
     "execution_count": 33,
     "metadata": {},
     "output_type": "execute_result"
    },
    {
     "data": {
      "image/png": "[encoded data removed]",
      "text/plain": [
       "<Figure size 432x288 with 1 Axes>"
      ]
     },
     "metadata": {},
     "output_type": "display_data"
    }
   ],
   "source": [
    "df[df['who']=='Child'].loc[:,['Sex','who']].value_counts().plot.pie(autopct=make_autopct(df[df['who']=='Child'].loc[:,['Sex','who']].value_counts()))"
   ]
  },
  {
   "cell_type": "markdown",
   "metadata": {
    "papermill": {
     "duration": 0.101516,
     "end_time": "2020-10-01T08:47:58.502668",
     "exception": false,
     "start_time": "2020-10-01T08:47:58.401152",
     "status": "completed"
    },
    "tags": []
   },
   "source": [
    "# Target/Sex"
   ]
  },
  {
   "cell_type": "code",
   "execution_count": 34,
   "metadata": {
    "execution": {
     "iopub.execute_input": "2020-10-01T08:47:58.719130Z",
     "iopub.status.busy": "2020-10-01T08:47:58.716364Z",
     "iopub.status.idle": "2020-10-01T08:47:58.871889Z",
     "shell.execute_reply": "2020-10-01T08:47:58.872498Z"
    },
    "papermill": {
     "duration": 0.268536,
     "end_time": "2020-10-01T08:47:58.872654",
     "exception": false,
     "start_time": "2020-10-01T08:47:58.604118",
     "status": "completed"
    },
    "tags": []
   },
   "outputs": [
    {
     "data": {
      "image/png": "[encoded data removed]",
      "text/plain": [
       "<Figure size 432x288 with 1 Axes>"
      ]
     },
     "metadata": {
      "needs_background": "light"
     },
     "output_type": "display_data"
    }
   ],
   "source": [
    "plt.figure()\n",
    "sns.countplot(data=df,x='Sex',hue='Survived')\n",
    "plt.legend()\n",
    "plt.grid()"
   ]
  },
  {
   "cell_type": "markdown",
   "metadata": {
    "papermill": {
     "duration": 0.103067,
     "end_time": "2020-10-01T08:47:59.082482",
     "exception": false,
     "start_time": "2020-10-01T08:47:58.979415",
     "status": "completed"
    },
    "tags": []
   },
   "source": [
    "# Target/Embarked"
   ]
  },
  {
   "cell_type": "code",
   "execution_count": 35,
   "metadata": {
    "execution": {
     "iopub.execute_input": "2020-10-01T08:47:59.314192Z",
     "iopub.status.busy": "2020-10-01T08:47:59.312925Z",
     "iopub.status.idle": "2020-10-01T08:47:59.487164Z",
     "shell.execute_reply": "2020-10-01T08:47:59.487712Z"
    },
    "papermill": {
     "duration": 0.300915,
     "end_time": "2020-10-01T08:47:59.487892",
     "exception": false,
     "start_time": "2020-10-01T08:47:59.186977",
     "status": "completed"
    },
    "tags": []
   },
   "outputs": [
    {
     "data": {
      "text/plain": [
       "<matplotlib.legend.Legend at 0x7fdcab0bb050>"
      ]
     },
     "execution_count": 35,
     "metadata": {},
     "output_type": "execute_result"
    },
    {
     "data": {
      "image/png": "[encoded data removed]",
      "text/plain": [
       "<Figure size 432x288 with 1 Axes>"
      ]
     },
     "metadata": {
      "needs_background": "light"
     },
     "output_type": "display_data"
    }
   ],
   "source": [
    "plt.figure()\n",
    "sns.countplot(data=df,x='Embarked',hue='Survived')\n",
    "plt.legend()\n",
    "# plt.grid()"
   ]
  },
  {
   "cell_type": "code",
   "execution_count": 36,
   "metadata": {
    "execution": {
     "iopub.execute_input": "2020-10-01T08:47:59.709148Z",
     "iopub.status.busy": "2020-10-01T08:47:59.708091Z",
     "iopub.status.idle": "2020-10-01T08:48:00.103381Z",
     "shell.execute_reply": "2020-10-01T08:48:00.104259Z"
    },
    "papermill": {
     "duration": 0.508959,
     "end_time": "2020-10-01T08:48:00.104475",
     "exception": false,
     "start_time": "2020-10-01T08:47:59.595516",
     "status": "completed"
    },
    "tags": []
   },
   "outputs": [
    {
     "data": {
      "image/png": "[encoded data removed]",
      "text/plain": [
       "<Figure size 411.875x360 with 1 Axes>"
      ]
     },
     "metadata": {
      "needs_background": "light"
     },
     "output_type": "display_data"
    }
   ],
   "source": [
    "countplot_with_percent('Embarked','Survived')"
   ]
  },
  {
   "cell_type": "markdown",
   "metadata": {
    "papermill": {
     "duration": 0.10613,
     "end_time": "2020-10-01T08:48:00.323166",
     "exception": false,
     "start_time": "2020-10-01T08:48:00.217036",
     "status": "completed"
    },
    "tags": []
   },
   "source": [
    "# Target/famille"
   ]
  },
  {
   "cell_type": "code",
   "execution_count": 37,
   "metadata": {
    "execution": {
     "iopub.execute_input": "2020-10-01T08:48:00.538266Z",
     "iopub.status.busy": "2020-10-01T08:48:00.537187Z",
     "iopub.status.idle": "2020-10-01T08:48:00.938154Z",
     "shell.execute_reply": "2020-10-01T08:48:00.938647Z"
    },
    "papermill": {
     "duration": 0.509688,
     "end_time": "2020-10-01T08:48:00.938827",
     "exception": false,
     "start_time": "2020-10-01T08:48:00.429139",
     "status": "completed"
    },
    "tags": []
   },
   "outputs": [
    {
     "data": {
      "image/png": "[encoded data removed]",
      "text/plain": [
       "<Figure size 432x288 with 1 Axes>"
      ]
     },
     "metadata": {
      "needs_background": "light"
     },
     "output_type": "display_data"
    },
    {
     "data": {
      "image/png": "[encoded data removed]",
      "text/plain": [
       "<Figure size 432x288 with 1 Axes>"
      ]
     },
     "metadata": {
      "needs_background": "light"
     },
     "output_type": "display_data"
    }
   ],
   "source": [
    "for col in fam_col:\n",
    "    plt.figure()\n",
    "    sns.countplot(data=df,x=col,hue='Survived')\n",
    "#     plt.xlim(0,8)\n",
    "    \n",
    "    plt.legend()"
   ]
  },
  {
   "cell_type": "code",
   "execution_count": 38,
   "metadata": {
    "execution": {
     "iopub.execute_input": "2020-10-01T08:48:01.158323Z",
     "iopub.status.busy": "2020-10-01T08:48:01.156483Z",
     "iopub.status.idle": "2020-10-01T08:48:01.311970Z",
     "shell.execute_reply": "2020-10-01T08:48:01.311372Z"
    },
    "papermill": {
     "duration": 0.268165,
     "end_time": "2020-10-01T08:48:01.312105",
     "exception": false,
     "start_time": "2020-10-01T08:48:01.043940",
     "status": "completed"
    },
    "tags": []
   },
   "outputs": [
    {
     "data": {
      "text/plain": [
       "<matplotlib.axes._subplots.AxesSubplot at 0x7fdcab34de10>"
      ]
     },
     "execution_count": 38,
     "metadata": {},
     "output_type": "execute_result"
    },
    {
     "data": {
      "image/png": "[encoded data removed]",
      "text/plain": [
       "<Figure size 432x288 with 1 Axes>"
      ]
     },
     "metadata": {
      "needs_background": "light"
     },
     "output_type": "display_data"
    }
   ],
   "source": [
    "plt.figure()\n",
    "sns.countplot(data=df,x='famille',hue='Survived')"
   ]
  },
  {
   "cell_type": "markdown",
   "metadata": {
    "papermill": {
     "duration": 0.105832,
     "end_time": "2020-10-01T08:48:01.527922",
     "exception": false,
     "start_time": "2020-10-01T08:48:01.422090",
     "status": "completed"
    },
    "tags": []
   },
   "source": [
    "# Analyse détaillée"
   ]
  },
  {
   "cell_type": "markdown",
   "metadata": {
    "papermill": {
     "duration": 0.11601,
     "end_time": "2020-10-01T08:48:01.749608",
     "exception": false,
     "start_time": "2020-10-01T08:48:01.633598",
     "status": "completed"
    },
    "tags": []
   },
   "source": [
    "# Relation Variables/variables"
   ]
  },
  {
   "cell_type": "markdown",
   "metadata": {
    "papermill": {
     "duration": 0.12457,
     "end_time": "2020-10-01T08:48:02.001413",
     "exception": false,
     "start_time": "2020-10-01T08:48:01.876843",
     "status": "completed"
    },
    "tags": []
   },
   "source": [
    "# famille/famille"
   ]
  },
  {
   "cell_type": "code",
   "execution_count": 39,
   "metadata": {
    "execution": {
     "iopub.execute_input": "2020-10-01T08:48:02.225260Z",
     "iopub.status.busy": "2020-10-01T08:48:02.224134Z",
     "iopub.status.idle": "2020-10-01T08:48:02.233065Z",
     "shell.execute_reply": "2020-10-01T08:48:02.233534Z"
    },
    "papermill": {
     "duration": 0.125293,
     "end_time": "2020-10-01T08:48:02.233685",
     "exception": false,
     "start_time": "2020-10-01T08:48:02.108392",
     "status": "completed"
    },
    "tags": []
   },
   "outputs": [
    {
     "data": {
      "text/html": [
       "<div>\n",
       "<style scoped>\n",
       "    .dataframe tbody tr th:only-of-type {\n",
       "        vertical-align: middle;\n",
       "    }\n",
       "\n",
       "    .dataframe tbody tr th {\n",
       "        vertical-align: top;\n",
       "    }\n",
       "\n",
       "    .dataframe thead th {\n",
       "        text-align: right;\n",
       "    }\n",
       "</style>\n",
       "<table border=\"1\" class=\"dataframe\">\n",
       "  <thead>\n",
       "    <tr style=\"text-align: right;\">\n",
       "      <th></th>\n",
       "      <th>SibSp</th>\n",
       "      <th>Parch</th>\n",
       "    </tr>\n",
       "  </thead>\n",
       "  <tbody>\n",
       "    <tr>\n",
       "      <th>SibSp</th>\n",
       "      <td>1.000000</td>\n",
       "      <td>0.414542</td>\n",
       "    </tr>\n",
       "    <tr>\n",
       "      <th>Parch</th>\n",
       "      <td>0.414542</td>\n",
       "      <td>1.000000</td>\n",
       "    </tr>\n",
       "  </tbody>\n",
       "</table>\n",
       "</div>"
      ],
      "text/plain": [
       "          SibSp     Parch\n",
       "SibSp  1.000000  0.414542\n",
       "Parch  0.414542  1.000000"
      ]
     },
     "execution_count": 39,
     "metadata": {},
     "output_type": "execute_result"
    }
   ],
   "source": [
    "df[fam_col].corr()"
   ]
  },
  {
   "cell_type": "markdown",
   "metadata": {
    "papermill": {
     "duration": 0.110628,
     "end_time": "2020-10-01T08:48:02.449927",
     "exception": false,
     "start_time": "2020-10-01T08:48:02.339299",
     "status": "completed"
    },
    "tags": []
   },
   "source": [
    "# who/pclass"
   ]
  },
  {
   "cell_type": "code",
   "execution_count": 40,
   "metadata": {
    "execution": {
     "iopub.execute_input": "2020-10-01T08:48:02.669411Z",
     "iopub.status.busy": "2020-10-01T08:48:02.668331Z",
     "iopub.status.idle": "2020-10-01T08:48:02.839078Z",
     "shell.execute_reply": "2020-10-01T08:48:02.839541Z"
    },
    "papermill": {
     "duration": 0.282011,
     "end_time": "2020-10-01T08:48:02.839695",
     "exception": false,
     "start_time": "2020-10-01T08:48:02.557684",
     "status": "completed"
    },
    "tags": []
   },
   "outputs": [
    {
     "data": {
      "text/plain": [
       "<matplotlib.axes._subplots.AxesSubplot at 0x7fdcab65bd90>"
      ]
     },
     "execution_count": 40,
     "metadata": {},
     "output_type": "execute_result"
    },
    {
     "data": {
      "image/png": "[encoded data removed]",
      "text/plain": [
       "<Figure size 432x288 with 1 Axes>"
      ]
     },
     "metadata": {
      "needs_background": "light"
     },
     "output_type": "display_data"
    }
   ],
   "source": [
    "sns.countplot(x='Pclass',hue='who',data=df)"
   ]
  },
  {
   "cell_type": "markdown",
   "metadata": {
    "papermill": {
     "duration": 0.107473,
     "end_time": "2020-10-01T08:48:03.055205",
     "exception": false,
     "start_time": "2020-10-01T08:48:02.947732",
     "status": "completed"
    },
    "tags": []
   },
   "source": [
    "# age/fare"
   ]
  },
  {
   "cell_type": "code",
   "execution_count": 41,
   "metadata": {
    "execution": {
     "iopub.execute_input": "2020-10-01T08:48:03.287374Z",
     "iopub.status.busy": "2020-10-01T08:48:03.286692Z",
     "iopub.status.idle": "2020-10-01T08:48:03.529382Z",
     "shell.execute_reply": "2020-10-01T08:48:03.528643Z"
    },
    "papermill": {
     "duration": 0.359265,
     "end_time": "2020-10-01T08:48:03.529502",
     "exception": false,
     "start_time": "2020-10-01T08:48:03.170237",
     "status": "completed"
    },
    "tags": []
   },
   "outputs": [
    {
     "data": {
      "text/plain": [
       "(-5.0, 300.0)"
      ]
     },
     "execution_count": 41,
     "metadata": {},
     "output_type": "execute_result"
    },
    {
     "data": {
      "image/png": "[encoded data removed]",
      "text/plain": [
       "<Figure size 720x504 with 1 Axes>"
      ]
     },
     "metadata": {
      "needs_background": "light"
     },
     "output_type": "display_data"
    }
   ],
   "source": [
    "plt.figure(figsize=(10,7))\n",
    "sns.scatterplot(x=df.Age,y=df.Fare,hue=df.Survived)\n",
    "# plt.xlim(10,50)\n",
    "plt.ylim(-5,300)"
   ]
  },
  {
   "cell_type": "code",
   "execution_count": 42,
   "metadata": {
    "execution": {
     "iopub.execute_input": "2020-10-01T08:48:03.763658Z",
     "iopub.status.busy": "2020-10-01T08:48:03.762517Z",
     "iopub.status.idle": "2020-10-01T08:48:05.602834Z",
     "shell.execute_reply": "2020-10-01T08:48:05.602265Z"
    },
    "papermill": {
     "duration": 1.963401,
     "end_time": "2020-10-01T08:48:05.602962",
     "exception": false,
     "start_time": "2020-10-01T08:48:03.639561",
     "status": "completed"
    },
    "tags": []
   },
   "outputs": [
    {
     "data": {
      "text/plain": [
       "(-5.0, 50.0)"
      ]
     },
     "execution_count": 42,
     "metadata": {},
     "output_type": "execute_result"
    },
    {
     "data": {
      "image/png": "[encoded data removed]",
      "text/plain": [
       "<Figure size 432x432 with 3 Axes>"
      ]
     },
     "metadata": {
      "needs_background": "light"
     },
     "output_type": "display_data"
    }
   ],
   "source": [
    "sns.jointplot(x=df.Age,y=df.Fare, kind='kde')\n",
    "plt.ylim(-5,50)"
   ]
  },
  {
   "cell_type": "markdown",
   "metadata": {
    "papermill": {
     "duration": 0.111689,
     "end_time": "2020-10-01T08:48:05.827311",
     "exception": false,
     "start_time": "2020-10-01T08:48:05.715622",
     "status": "completed"
    },
    "tags": []
   },
   "source": [
    "# Embarked/who"
   ]
  },
  {
   "cell_type": "code",
   "execution_count": 43,
   "metadata": {
    "execution": {
     "iopub.execute_input": "2020-10-01T08:48:06.059203Z",
     "iopub.status.busy": "2020-10-01T08:48:06.058456Z",
     "iopub.status.idle": "2020-10-01T08:48:06.232755Z",
     "shell.execute_reply": "2020-10-01T08:48:06.232072Z"
    },
    "papermill": {
     "duration": 0.293402,
     "end_time": "2020-10-01T08:48:06.232921",
     "exception": false,
     "start_time": "2020-10-01T08:48:05.939519",
     "status": "completed"
    },
    "tags": []
   },
   "outputs": [
    {
     "data": {
      "text/plain": [
       "<matplotlib.axes._subplots.AxesSubplot at 0x7fdcab1d2b50>"
      ]
     },
     "execution_count": 43,
     "metadata": {},
     "output_type": "execute_result"
    },
    {
     "data": {
      "image/png": "[encoded data removed]",
      "text/plain": [
       "<Figure size 432x288 with 1 Axes>"
      ]
     },
     "metadata": {
      "needs_background": "light"
     },
     "output_type": "display_data"
    }
   ],
   "source": [
    "sns.countplot(data=df,x='Embarked',hue='who')"
   ]
  },
  {
   "cell_type": "code",
   "execution_count": 44,
   "metadata": {
    "execution": {
     "iopub.execute_input": "2020-10-01T08:48:06.466545Z",
     "iopub.status.busy": "2020-10-01T08:48:06.465444Z",
     "iopub.status.idle": "2020-10-01T08:48:06.756516Z",
     "shell.execute_reply": "2020-10-01T08:48:06.755846Z"
    },
    "papermill": {
     "duration": 0.411052,
     "end_time": "2020-10-01T08:48:06.756628",
     "exception": false,
     "start_time": "2020-10-01T08:48:06.345576",
     "status": "completed"
    },
    "tags": []
   },
   "outputs": [
    {
     "data": {
      "image/png": "[encoded data removed]",
      "text/plain": [
       "<Figure size 430.5x360 with 1 Axes>"
      ]
     },
     "metadata": {
      "needs_background": "light"
     },
     "output_type": "display_data"
    }
   ],
   "source": [
    "countplot_with_percent('Embarked', 'who')"
   ]
  },
  {
   "cell_type": "markdown",
   "metadata": {
    "papermill": {
     "duration": 0.113842,
     "end_time": "2020-10-01T08:48:06.985300",
     "exception": false,
     "start_time": "2020-10-01T08:48:06.871458",
     "status": "completed"
    },
    "tags": []
   },
   "source": [
    "# Embarked/pclass"
   ]
  },
  {
   "cell_type": "code",
   "execution_count": 45,
   "metadata": {
    "execution": {
     "iopub.execute_input": "2020-10-01T08:48:07.228677Z",
     "iopub.status.busy": "2020-10-01T08:48:07.223332Z",
     "iopub.status.idle": "2020-10-01T08:48:07.396032Z",
     "shell.execute_reply": "2020-10-01T08:48:07.395323Z"
    },
    "papermill": {
     "duration": 0.294679,
     "end_time": "2020-10-01T08:48:07.396164",
     "exception": false,
     "start_time": "2020-10-01T08:48:07.101485",
     "status": "completed"
    },
    "tags": []
   },
   "outputs": [
    {
     "data": {
      "text/plain": [
       "<matplotlib.axes._subplots.AxesSubplot at 0x7fdca97544d0>"
      ]
     },
     "execution_count": 45,
     "metadata": {},
     "output_type": "execute_result"
    },
    {
     "data": {
      "image/png": "[encoded data removed]",
      "text/plain": [
       "<Figure size 432x288 with 1 Axes>"
      ]
     },
     "metadata": {
      "needs_background": "light"
     },
     "output_type": "display_data"
    }
   ],
   "source": [
    "sns.countplot(data=df,x=df.Embarked,hue=df.Pclass)"
   ]
  },
  {
   "cell_type": "code",
   "execution_count": 46,
   "metadata": {
    "execution": {
     "iopub.execute_input": "2020-10-01T08:48:07.642324Z",
     "iopub.status.busy": "2020-10-01T08:48:07.636834Z",
     "iopub.status.idle": "2020-10-01T08:48:07.938034Z",
     "shell.execute_reply": "2020-10-01T08:48:07.937429Z"
    },
    "papermill": {
     "duration": 0.424851,
     "end_time": "2020-10-01T08:48:07.938231",
     "exception": false,
     "start_time": "2020-10-01T08:48:07.513380",
     "status": "completed"
    },
    "tags": []
   },
   "outputs": [
    {
     "data": {
      "image/png": "[encoded data removed]",
      "text/plain": [
       "<Figure size 402.375x360 with 1 Axes>"
      ]
     },
     "metadata": {
      "needs_background": "light"
     },
     "output_type": "display_data"
    }
   ],
   "source": [
    "countplot_with_percent('Embarked', 'Pclass')"
   ]
  },
  {
   "cell_type": "markdown",
   "metadata": {
    "papermill": {
     "duration": 0.118385,
     "end_time": "2020-10-01T08:48:08.175721",
     "exception": false,
     "start_time": "2020-10-01T08:48:08.057336",
     "status": "completed"
    },
    "tags": []
   },
   "source": [
    "# Embarked/famille"
   ]
  },
  {
   "cell_type": "code",
   "execution_count": 47,
   "metadata": {
    "execution": {
     "iopub.execute_input": "2020-10-01T08:48:08.463533Z",
     "iopub.status.busy": "2020-10-01T08:48:08.462130Z",
     "iopub.status.idle": "2020-10-01T08:48:08.642031Z",
     "shell.execute_reply": "2020-10-01T08:48:08.642598Z"
    },
    "papermill": {
     "duration": 0.331892,
     "end_time": "2020-10-01T08:48:08.642754",
     "exception": false,
     "start_time": "2020-10-01T08:48:08.310862",
     "status": "completed"
    },
    "tags": []
   },
   "outputs": [
    {
     "data": {
      "text/plain": [
       "<matplotlib.axes._subplots.AxesSubplot at 0x7fdca9701950>"
      ]
     },
     "execution_count": 47,
     "metadata": {},
     "output_type": "execute_result"
    },
    {
     "data": {
      "image/png": "[encoded data removed]",
      "text/plain": [
       "<Figure size 432x288 with 1 Axes>"
      ]
     },
     "metadata": {
      "needs_background": "light"
     },
     "output_type": "display_data"
    }
   ],
   "source": [
    "sns.countplot(data=df,x='Embarked',hue='famille')"
   ]
  },
  {
   "cell_type": "code",
   "execution_count": 48,
   "metadata": {
    "execution": {
     "iopub.execute_input": "2020-10-01T08:48:08.893770Z",
     "iopub.status.busy": "2020-10-01T08:48:08.892704Z",
     "iopub.status.idle": "2020-10-01T08:48:09.186594Z",
     "shell.execute_reply": "2020-10-01T08:48:09.185473Z"
    },
    "papermill": {
     "duration": 0.421088,
     "end_time": "2020-10-01T08:48:09.186850",
     "exception": false,
     "start_time": "2020-10-01T08:48:08.765762",
     "status": "completed"
    },
    "tags": []
   },
   "outputs": [
    {
     "data": {
      "image/png": "[encoded data removed]",
      "text/plain": [
       "<Figure size 421.25x360 with 1 Axes>"
      ]
     },
     "metadata": {
      "needs_background": "light"
     },
     "output_type": "display_data"
    }
   ],
   "source": [
    "countplot_with_percent('Embarked', 'famille')"
   ]
  },
  {
   "cell_type": "markdown",
   "metadata": {
    "papermill": {
     "duration": 0.121824,
     "end_time": "2020-10-01T08:48:09.437582",
     "exception": false,
     "start_time": "2020-10-01T08:48:09.315758",
     "status": "completed"
    },
    "tags": []
   },
   "source": [
    "# Prepocessing"
   ]
  },
  {
   "cell_type": "markdown",
   "metadata": {
    "papermill": {
     "duration": 0.123012,
     "end_time": "2020-10-01T08:48:09.680486",
     "exception": false,
     "start_time": "2020-10-01T08:48:09.557474",
     "status": "completed"
    },
    "tags": []
   },
   "source": [
    "# Elimination des varibales/lignes inutiles"
   ]
  },
  {
   "cell_type": "code",
   "execution_count": 49,
   "metadata": {
    "execution": {
     "iopub.execute_input": "2020-10-01T08:48:09.943969Z",
     "iopub.status.busy": "2020-10-01T08:48:09.943073Z",
     "iopub.status.idle": "2020-10-01T08:48:09.945515Z",
     "shell.execute_reply": "2020-10-01T08:48:09.944709Z"
    },
    "papermill": {
     "duration": 0.138134,
     "end_time": "2020-10-01T08:48:09.945653",
     "exception": false,
     "start_time": "2020-10-01T08:48:09.807519",
     "status": "completed"
    },
    "tags": []
   },
   "outputs": [],
   "source": [
    "df=titanic_data.copy()"
   ]
  },
  {
   "cell_type": "code",
   "execution_count": 50,
   "metadata": {
    "execution": {
     "iopub.execute_input": "2020-10-01T08:48:10.204825Z",
     "iopub.status.busy": "2020-10-01T08:48:10.203724Z",
     "iopub.status.idle": "2020-10-01T08:48:10.219405Z",
     "shell.execute_reply": "2020-10-01T08:48:10.220180Z"
    },
    "papermill": {
     "duration": 0.144151,
     "end_time": "2020-10-01T08:48:10.220356",
     "exception": false,
     "start_time": "2020-10-01T08:48:10.076205",
     "status": "completed"
    },
    "tags": []
   },
   "outputs": [
    {
     "data": {
      "text/html": [
       "<div>\n",
       "<style scoped>\n",
       "    .dataframe tbody tr th:only-of-type {\n",
       "        vertical-align: middle;\n",
       "    }\n",
       "\n",
       "    .dataframe tbody tr th {\n",
       "        vertical-align: top;\n",
       "    }\n",
       "\n",
       "    .dataframe thead th {\n",
       "        text-align: right;\n",
       "    }\n",
       "</style>\n",
       "<table border=\"1\" class=\"dataframe\">\n",
       "  <thead>\n",
       "    <tr style=\"text-align: right;\">\n",
       "      <th></th>\n",
       "      <th>PassengerId</th>\n",
       "      <th>Survived</th>\n",
       "      <th>Pclass</th>\n",
       "      <th>Name</th>\n",
       "      <th>Sex</th>\n",
       "      <th>Age</th>\n",
       "      <th>SibSp</th>\n",
       "      <th>Parch</th>\n",
       "      <th>Ticket</th>\n",
       "      <th>Fare</th>\n",
       "      <th>Cabin</th>\n",
       "      <th>Embarked</th>\n",
       "    </tr>\n",
       "  </thead>\n",
       "  <tbody>\n",
       "    <tr>\n",
       "      <th>0</th>\n",
       "      <td>1</td>\n",
       "      <td>0</td>\n",
       "      <td>3</td>\n",
       "      <td>Braund, Mr. Owen Harris</td>\n",
       "      <td>male</td>\n",
       "      <td>22.0</td>\n",
       "      <td>1</td>\n",
       "      <td>0</td>\n",
       "      <td>A/5 21171</td>\n",
       "      <td>7.2500</td>\n",
       "      <td>NaN</td>\n",
       "      <td>S</td>\n",
       "    </tr>\n",
       "    <tr>\n",
       "      <th>1</th>\n",
       "      <td>2</td>\n",
       "      <td>1</td>\n",
       "      <td>1</td>\n",
       "      <td>Cumings, Mrs. John Bradley (Florence Briggs Th...</td>\n",
       "      <td>female</td>\n",
       "      <td>38.0</td>\n",
       "      <td>1</td>\n",
       "      <td>0</td>\n",
       "      <td>PC 17599</td>\n",
       "      <td>71.2833</td>\n",
       "      <td>C85</td>\n",
       "      <td>C</td>\n",
       "    </tr>\n",
       "    <tr>\n",
       "      <th>2</th>\n",
       "      <td>3</td>\n",
       "      <td>1</td>\n",
       "      <td>3</td>\n",
       "      <td>Heikkinen, Miss. Laina</td>\n",
       "      <td>female</td>\n",
       "      <td>26.0</td>\n",
       "      <td>0</td>\n",
       "      <td>0</td>\n",
       "      <td>STON/O2. 3101282</td>\n",
       "      <td>7.9250</td>\n",
       "      <td>NaN</td>\n",
       "      <td>S</td>\n",
       "    </tr>\n",
       "    <tr>\n",
       "      <th>3</th>\n",
       "      <td>4</td>\n",
       "      <td>1</td>\n",
       "      <td>1</td>\n",
       "      <td>Futrelle, Mrs. Jacques Heath (Lily May Peel)</td>\n",
       "      <td>female</td>\n",
       "      <td>35.0</td>\n",
       "      <td>1</td>\n",
       "      <td>0</td>\n",
       "      <td>113803</td>\n",
       "      <td>53.1000</td>\n",
       "      <td>C123</td>\n",
       "      <td>S</td>\n",
       "    </tr>\n",
       "    <tr>\n",
       "      <th>4</th>\n",
       "      <td>5</td>\n",
       "      <td>0</td>\n",
       "      <td>3</td>\n",
       "      <td>Allen, Mr. William Henry</td>\n",
       "      <td>male</td>\n",
       "      <td>35.0</td>\n",
       "      <td>0</td>\n",
       "      <td>0</td>\n",
       "      <td>373450</td>\n",
       "      <td>8.0500</td>\n",
       "      <td>NaN</td>\n",
       "      <td>S</td>\n",
       "    </tr>\n",
       "  </tbody>\n",
       "</table>\n",
       "</div>"
      ],
      "text/plain": [
       "   PassengerId  Survived  Pclass  \\\n",
       "0            1         0       3   \n",
       "1            2         1       1   \n",
       "2            3         1       3   \n",
       "3            4         1       1   \n",
       "4            5         0       3   \n",
       "\n",
       "                                                Name     Sex   Age  SibSp  \\\n",
       "0                            Braund, Mr. Owen Harris    male  22.0      1   \n",
       "1  Cumings, Mrs. John Bradley (Florence Briggs Th...  female  38.0      1   \n",
       "2                             Heikkinen, Miss. Laina  female  26.0      0   \n",
       "3       Futrelle, Mrs. Jacques Heath (Lily May Peel)  female  35.0      1   \n",
       "4                           Allen, Mr. William Henry    male  35.0      0   \n",
       "\n",
       "   Parch            Ticket     Fare Cabin Embarked  \n",
       "0      0         A/5 21171   7.2500   NaN        S  \n",
       "1      0          PC 17599  71.2833   C85        C  \n",
       "2      0  STON/O2. 3101282   7.9250   NaN        S  \n",
       "3      0            113803  53.1000  C123        S  \n",
       "4      0            373450   8.0500   NaN        S  "
      ]
     },
     "execution_count": 50,
     "metadata": {},
     "output_type": "execute_result"
    }
   ],
   "source": [
    "df.head()"
   ]
  },
  {
   "cell_type": "code",
   "execution_count": 51,
   "metadata": {
    "execution": {
     "iopub.execute_input": "2020-10-01T08:48:10.474154Z",
     "iopub.status.busy": "2020-10-01T08:48:10.473450Z",
     "iopub.status.idle": "2020-10-01T08:48:10.479501Z",
     "shell.execute_reply": "2020-10-01T08:48:10.480083Z"
    },
    "papermill": {
     "duration": 0.13889,
     "end_time": "2020-10-01T08:48:10.480243",
     "exception": false,
     "start_time": "2020-10-01T08:48:10.341353",
     "status": "completed"
    },
    "tags": []
   },
   "outputs": [
    {
     "data": {
      "text/plain": [
       "(891, 12)"
      ]
     },
     "execution_count": 51,
     "metadata": {},
     "output_type": "execute_result"
    }
   ],
   "source": [
    "df.shape"
   ]
  },
  {
   "cell_type": "code",
   "execution_count": 52,
   "metadata": {
    "execution": {
     "iopub.execute_input": "2020-10-01T08:48:10.746889Z",
     "iopub.status.busy": "2020-10-01T08:48:10.745398Z",
     "iopub.status.idle": "2020-10-01T08:48:10.750363Z",
     "shell.execute_reply": "2020-10-01T08:48:10.751189Z"
    },
    "papermill": {
     "duration": 0.140057,
     "end_time": "2020-10-01T08:48:10.751451",
     "exception": false,
     "start_time": "2020-10-01T08:48:10.611394",
     "status": "completed"
    },
    "tags": []
   },
   "outputs": [],
   "source": [
    "df.drop(['PassengerId','Cabin','Name','Ticket'],axis=1,inplace=True)\n",
    "df.dropna(axis=0, subset=['Embarked'],inplace=True)"
   ]
  },
  {
   "cell_type": "code",
   "execution_count": 53,
   "metadata": {
    "execution": {
     "iopub.execute_input": "2020-10-01T08:48:11.011249Z",
     "iopub.status.busy": "2020-10-01T08:48:11.010500Z",
     "iopub.status.idle": "2020-10-01T08:48:11.026564Z",
     "shell.execute_reply": "2020-10-01T08:48:11.027202Z"
    },
    "papermill": {
     "duration": 0.147595,
     "end_time": "2020-10-01T08:48:11.027364",
     "exception": false,
     "start_time": "2020-10-01T08:48:10.879769",
     "status": "completed"
    },
    "tags": []
   },
   "outputs": [
    {
     "data": {
      "text/html": [
       "<div>\n",
       "<style scoped>\n",
       "    .dataframe tbody tr th:only-of-type {\n",
       "        vertical-align: middle;\n",
       "    }\n",
       "\n",
       "    .dataframe tbody tr th {\n",
       "        vertical-align: top;\n",
       "    }\n",
       "\n",
       "    .dataframe thead th {\n",
       "        text-align: right;\n",
       "    }\n",
       "</style>\n",
       "<table border=\"1\" class=\"dataframe\">\n",
       "  <thead>\n",
       "    <tr style=\"text-align: right;\">\n",
       "      <th></th>\n",
       "      <th>Survived</th>\n",
       "      <th>Pclass</th>\n",
       "      <th>Sex</th>\n",
       "      <th>Age</th>\n",
       "      <th>SibSp</th>\n",
       "      <th>Parch</th>\n",
       "      <th>Fare</th>\n",
       "      <th>Embarked</th>\n",
       "    </tr>\n",
       "  </thead>\n",
       "  <tbody>\n",
       "    <tr>\n",
       "      <th>0</th>\n",
       "      <td>0</td>\n",
       "      <td>3</td>\n",
       "      <td>male</td>\n",
       "      <td>22.0</td>\n",
       "      <td>1</td>\n",
       "      <td>0</td>\n",
       "      <td>7.2500</td>\n",
       "      <td>S</td>\n",
       "    </tr>\n",
       "    <tr>\n",
       "      <th>1</th>\n",
       "      <td>1</td>\n",
       "      <td>1</td>\n",
       "      <td>female</td>\n",
       "      <td>38.0</td>\n",
       "      <td>1</td>\n",
       "      <td>0</td>\n",
       "      <td>71.2833</td>\n",
       "      <td>C</td>\n",
       "    </tr>\n",
       "    <tr>\n",
       "      <th>2</th>\n",
       "      <td>1</td>\n",
       "      <td>3</td>\n",
       "      <td>female</td>\n",
       "      <td>26.0</td>\n",
       "      <td>0</td>\n",
       "      <td>0</td>\n",
       "      <td>7.9250</td>\n",
       "      <td>S</td>\n",
       "    </tr>\n",
       "    <tr>\n",
       "      <th>3</th>\n",
       "      <td>1</td>\n",
       "      <td>1</td>\n",
       "      <td>female</td>\n",
       "      <td>35.0</td>\n",
       "      <td>1</td>\n",
       "      <td>0</td>\n",
       "      <td>53.1000</td>\n",
       "      <td>S</td>\n",
       "    </tr>\n",
       "    <tr>\n",
       "      <th>4</th>\n",
       "      <td>0</td>\n",
       "      <td>3</td>\n",
       "      <td>male</td>\n",
       "      <td>35.0</td>\n",
       "      <td>0</td>\n",
       "      <td>0</td>\n",
       "      <td>8.0500</td>\n",
       "      <td>S</td>\n",
       "    </tr>\n",
       "  </tbody>\n",
       "</table>\n",
       "</div>"
      ],
      "text/plain": [
       "   Survived  Pclass     Sex   Age  SibSp  Parch     Fare Embarked\n",
       "0         0       3    male  22.0      1      0   7.2500        S\n",
       "1         1       1  female  38.0      1      0  71.2833        C\n",
       "2         1       3  female  26.0      0      0   7.9250        S\n",
       "3         1       1  female  35.0      1      0  53.1000        S\n",
       "4         0       3    male  35.0      0      0   8.0500        S"
      ]
     },
     "execution_count": 53,
     "metadata": {},
     "output_type": "execute_result"
    }
   ],
   "source": [
    "df.head()"
   ]
  },
  {
   "cell_type": "code",
   "execution_count": 54,
   "metadata": {
    "execution": {
     "iopub.execute_input": "2020-10-01T08:48:11.287643Z",
     "iopub.status.busy": "2020-10-01T08:48:11.286749Z",
     "iopub.status.idle": "2020-10-01T08:48:11.292265Z",
     "shell.execute_reply": "2020-10-01T08:48:11.292807Z"
    },
    "papermill": {
     "duration": 0.138089,
     "end_time": "2020-10-01T08:48:11.292956",
     "exception": false,
     "start_time": "2020-10-01T08:48:11.154867",
     "status": "completed"
    },
    "tags": []
   },
   "outputs": [
    {
     "data": {
      "text/plain": [
       "(889, 8)"
      ]
     },
     "execution_count": 54,
     "metadata": {},
     "output_type": "execute_result"
    }
   ],
   "source": [
    "df.shape"
   ]
  },
  {
   "cell_type": "markdown",
   "metadata": {
    "papermill": {
     "duration": 0.120467,
     "end_time": "2020-10-01T08:48:11.544743",
     "exception": false,
     "start_time": "2020-10-01T08:48:11.424276",
     "status": "completed"
    },
    "tags": []
   },
   "source": [
    "# Train/test - Nettoyage - Encodage"
   ]
  },
  {
   "cell_type": "markdown",
   "metadata": {
    "papermill": {
     "duration": 0.129018,
     "end_time": "2020-10-01T08:48:11.796902",
     "exception": false,
     "start_time": "2020-10-01T08:48:11.667884",
     "status": "completed"
    },
    "tags": []
   },
   "source": [
    "# train test split"
   ]
  },
  {
   "cell_type": "code",
   "execution_count": 55,
   "metadata": {
    "execution": {
     "iopub.execute_input": "2020-10-01T08:48:12.067197Z",
     "iopub.status.busy": "2020-10-01T08:48:12.065884Z",
     "iopub.status.idle": "2020-10-01T08:48:12.362268Z",
     "shell.execute_reply": "2020-10-01T08:48:12.361538Z"
    },
    "papermill": {
     "duration": 0.433505,
     "end_time": "2020-10-01T08:48:12.362419",
     "exception": false,
     "start_time": "2020-10-01T08:48:11.928914",
     "status": "completed"
    },
    "tags": []
   },
   "outputs": [],
   "source": [
    "from sklearn.model_selection import train_test_split"
   ]
  },
  {
   "cell_type": "code",
   "execution_count": 56,
   "metadata": {
    "execution": {
     "iopub.execute_input": "2020-10-01T08:48:12.621677Z",
     "iopub.status.busy": "2020-10-01T08:48:12.620672Z",
     "iopub.status.idle": "2020-10-01T08:48:12.624654Z",
     "shell.execute_reply": "2020-10-01T08:48:12.623921Z"
    },
    "papermill": {
     "duration": 0.137597,
     "end_time": "2020-10-01T08:48:12.624778",
     "exception": false,
     "start_time": "2020-10-01T08:48:12.487181",
     "status": "completed"
    },
    "tags": []
   },
   "outputs": [],
   "source": [
    "trainset,testset=train_test_split(df,test_size=0.2,random_state=0)"
   ]
  },
  {
   "cell_type": "code",
   "execution_count": 57,
   "metadata": {
    "execution": {
     "iopub.execute_input": "2020-10-01T08:48:12.886592Z",
     "iopub.status.busy": "2020-10-01T08:48:12.885723Z",
     "iopub.status.idle": "2020-10-01T08:48:12.890816Z",
     "shell.execute_reply": "2020-10-01T08:48:12.890070Z"
    },
    "papermill": {
     "duration": 0.138736,
     "end_time": "2020-10-01T08:48:12.890943",
     "exception": false,
     "start_time": "2020-10-01T08:48:12.752207",
     "status": "completed"
    },
    "tags": []
   },
   "outputs": [
    {
     "data": {
      "text/plain": [
       "0    0.624473\n",
       "1    0.375527\n",
       "Name: Survived, dtype: float64"
      ]
     },
     "execution_count": 57,
     "metadata": {},
     "output_type": "execute_result"
    }
   ],
   "source": [
    "trainset.Survived.value_counts(normalize=True)"
   ]
  },
  {
   "cell_type": "code",
   "execution_count": 58,
   "metadata": {
    "execution": {
     "iopub.execute_input": "2020-10-01T08:48:13.155722Z",
     "iopub.status.busy": "2020-10-01T08:48:13.155016Z",
     "iopub.status.idle": "2020-10-01T08:48:13.160524Z",
     "shell.execute_reply": "2020-10-01T08:48:13.159898Z"
    },
    "papermill": {
     "duration": 0.139708,
     "end_time": "2020-10-01T08:48:13.160663",
     "exception": false,
     "start_time": "2020-10-01T08:48:13.020955",
     "status": "completed"
    },
    "tags": []
   },
   "outputs": [
    {
     "data": {
      "text/plain": [
       "0    0.589888\n",
       "1    0.410112\n",
       "Name: Survived, dtype: float64"
      ]
     },
     "execution_count": 58,
     "metadata": {},
     "output_type": "execute_result"
    }
   ],
   "source": [
    "testset.Survived.value_counts(normalize=True)"
   ]
  },
  {
   "cell_type": "markdown",
   "metadata": {
    "papermill": {
     "duration": 0.135268,
     "end_time": "2020-10-01T08:48:13.423292",
     "exception": false,
     "start_time": "2020-10-01T08:48:13.288024",
     "status": "completed"
    },
    "tags": []
   },
   "source": [
    "# Encodage"
   ]
  },
  {
   "cell_type": "code",
   "execution_count": 59,
   "metadata": {
    "execution": {
     "iopub.execute_input": "2020-10-01T08:48:13.684143Z",
     "iopub.status.busy": "2020-10-01T08:48:13.683007Z",
     "iopub.status.idle": "2020-10-01T08:48:13.685637Z",
     "shell.execute_reply": "2020-10-01T08:48:13.686190Z"
    },
    "papermill": {
     "duration": 0.135777,
     "end_time": "2020-10-01T08:48:13.686348",
     "exception": false,
     "start_time": "2020-10-01T08:48:13.550571",
     "status": "completed"
    },
    "tags": []
   },
   "outputs": [],
   "source": [
    "def encodage(df):\n",
    "    code = {\n",
    "            'male':0,\n",
    "            'female':1,\n",
    "            'child':2,\n",
    "            'S':0,\n",
    "            'C':1,\n",
    "            'Q':2\n",
    "           }\n",
    "    for col in df.select_dtypes('object').columns:\n",
    "        df.loc[:,col]=df[col].map(code)\n",
    "    \n",
    "    return df\n",
    "        "
   ]
  },
  {
   "cell_type": "markdown",
   "metadata": {
    "papermill": {
     "duration": 0.124223,
     "end_time": "2020-10-01T08:48:13.942114",
     "exception": false,
     "start_time": "2020-10-01T08:48:13.817891",
     "status": "completed"
    },
    "tags": []
   },
   "source": [
    "# Imputation valeurs manquantes"
   ]
  },
  {
   "cell_type": "code",
   "execution_count": 60,
   "metadata": {
    "execution": {
     "iopub.execute_input": "2020-10-01T08:48:14.204198Z",
     "iopub.status.busy": "2020-10-01T08:48:14.203390Z",
     "iopub.status.idle": "2020-10-01T08:48:14.206922Z",
     "shell.execute_reply": "2020-10-01T08:48:14.206115Z"
    },
    "papermill": {
     "duration": 0.139817,
     "end_time": "2020-10-01T08:48:14.207051",
     "exception": false,
     "start_time": "2020-10-01T08:48:14.067234",
     "status": "completed"
    },
    "tags": []
   },
   "outputs": [],
   "source": [
    "def feature_engineering(df):\n",
    "    df['who']=df.apply(who,axis=1)\n",
    "    return df"
   ]
  },
  {
   "cell_type": "code",
   "execution_count": 61,
   "metadata": {
    "execution": {
     "iopub.execute_input": "2020-10-01T08:48:14.468839Z",
     "iopub.status.busy": "2020-10-01T08:48:14.467901Z",
     "iopub.status.idle": "2020-10-01T08:48:14.470115Z",
     "shell.execute_reply": "2020-10-01T08:48:14.470725Z"
    },
    "papermill": {
     "duration": 0.134887,
     "end_time": "2020-10-01T08:48:14.470911",
     "exception": false,
     "start_time": "2020-10-01T08:48:14.336024",
     "status": "completed"
    },
    "tags": []
   },
   "outputs": [],
   "source": [
    "def imputation(df):\n",
    "#     df=df.dropna(axis=0)\n",
    "    df=df.fillna(df.Age.mean())\n",
    "    return df"
   ]
  },
  {
   "cell_type": "code",
   "execution_count": 62,
   "metadata": {
    "execution": {
     "iopub.execute_input": "2020-10-01T08:48:14.725887Z",
     "iopub.status.busy": "2020-10-01T08:48:14.725142Z",
     "iopub.status.idle": "2020-10-01T08:48:14.731474Z",
     "shell.execute_reply": "2020-10-01T08:48:14.732060Z"
    },
    "papermill": {
     "duration": 0.136471,
     "end_time": "2020-10-01T08:48:14.732210",
     "exception": false,
     "start_time": "2020-10-01T08:48:14.595739",
     "status": "completed"
    },
    "tags": []
   },
   "outputs": [],
   "source": [
    "def preprocessing(df):\n",
    "    \n",
    "    df=feature_engineering(df)\n",
    "    \n",
    "    df=encodage(df)\n",
    "    \n",
    "    df=imputation(df)\n",
    "   \n",
    "    \n",
    "    X=df.drop('Survived',axis=1)\n",
    "    y=df['Survived']\n",
    "    \n",
    "   \n",
    "    print(y.value_counts())\n",
    "    \n",
    "    return X,y"
   ]
  },
  {
   "cell_type": "code",
   "execution_count": 63,
   "metadata": {
    "execution": {
     "iopub.execute_input": "2020-10-01T08:48:14.998117Z",
     "iopub.status.busy": "2020-10-01T08:48:14.997156Z",
     "iopub.status.idle": "2020-10-01T08:48:15.036887Z",
     "shell.execute_reply": "2020-10-01T08:48:15.037754Z"
    },
    "papermill": {
     "duration": 0.175682,
     "end_time": "2020-10-01T08:48:15.038009",
     "exception": false,
     "start_time": "2020-10-01T08:48:14.862327",
     "status": "completed"
    },
    "tags": []
   },
   "outputs": [
    {
     "name": "stdout",
     "output_type": "stream",
     "text": [
      "0    444\n",
      "1    267\n",
      "Name: Survived, dtype: int64\n"
     ]
    },
    {
     "name": "stderr",
     "output_type": "stream",
     "text": [
      "/opt/conda/lib/python3.7/site-packages/ipykernel_launcher.py:2: SettingWithCopyWarning: \n",
      "A value is trying to be set on a copy of a slice from a DataFrame.\n",
      "Try using .loc[row_indexer,col_indexer] = value instead\n",
      "\n",
      "See the caveats in the documentation: https://pandas.pydata.org/pandas-docs/stable/user_guide/indexing.html#returning-a-view-versus-a-copy\n",
      "  \n",
      "/opt/conda/lib/python3.7/site-packages/pandas/core/indexing.py:1745: SettingWithCopyWarning: \n",
      "A value is trying to be set on a copy of a slice from a DataFrame.\n",
      "Try using .loc[row_indexer,col_indexer] = value instead\n",
      "\n",
      "See the caveats in the documentation: https://pandas.pydata.org/pandas-docs/stable/user_guide/indexing.html#returning-a-view-versus-a-copy\n",
      "  isetter(ilocs[0], value)\n"
     ]
    }
   ],
   "source": [
    "X_train,y_train=preprocessing(trainset)"
   ]
  },
  {
   "cell_type": "code",
   "execution_count": 64,
   "metadata": {
    "execution": {
     "iopub.execute_input": "2020-10-01T08:48:15.307251Z",
     "iopub.status.busy": "2020-10-01T08:48:15.306524Z",
     "iopub.status.idle": "2020-10-01T08:48:15.320978Z",
     "shell.execute_reply": "2020-10-01T08:48:15.320212Z"
    },
    "papermill": {
     "duration": 0.155588,
     "end_time": "2020-10-01T08:48:15.321158",
     "exception": false,
     "start_time": "2020-10-01T08:48:15.165570",
     "status": "completed"
    },
    "tags": []
   },
   "outputs": [
    {
     "name": "stdout",
     "output_type": "stream",
     "text": [
      "0    105\n",
      "1     73\n",
      "Name: Survived, dtype: int64\n"
     ]
    },
    {
     "name": "stderr",
     "output_type": "stream",
     "text": [
      "/opt/conda/lib/python3.7/site-packages/ipykernel_launcher.py:2: SettingWithCopyWarning: \n",
      "A value is trying to be set on a copy of a slice from a DataFrame.\n",
      "Try using .loc[row_indexer,col_indexer] = value instead\n",
      "\n",
      "See the caveats in the documentation: https://pandas.pydata.org/pandas-docs/stable/user_guide/indexing.html#returning-a-view-versus-a-copy\n",
      "  \n"
     ]
    }
   ],
   "source": [
    "X_test,y_test=preprocessing(testset)"
   ]
  },
  {
   "cell_type": "markdown",
   "metadata": {
    "papermill": {
     "duration": 0.131617,
     "end_time": "2020-10-01T08:48:15.588702",
     "exception": false,
     "start_time": "2020-10-01T08:48:15.457085",
     "status": "completed"
    },
    "tags": []
   },
   "source": [
    "# Modélisation"
   ]
  },
  {
   "cell_type": "code",
   "execution_count": 65,
   "metadata": {
    "execution": {
     "iopub.execute_input": "2020-10-01T08:48:15.854777Z",
     "iopub.status.busy": "2020-10-01T08:48:15.854080Z",
     "iopub.status.idle": "2020-10-01T08:48:16.146709Z",
     "shell.execute_reply": "2020-10-01T08:48:16.145942Z"
    },
    "papermill": {
     "duration": 0.429093,
     "end_time": "2020-10-01T08:48:16.146869",
     "exception": false,
     "start_time": "2020-10-01T08:48:15.717776",
     "status": "completed"
    },
    "tags": []
   },
   "outputs": [],
   "source": [
    "from sklearn.tree import DecisionTreeClassifier\n",
    "from sklearn.ensemble import RandomForestClassifier, AdaBoostClassifier\n",
    "from sklearn.metrics import accuracy_score, confusion_matrix,classification_report,f1_score,precision_score\n",
    "from sklearn.model_selection import learning_curve\n",
    "from sklearn.feature_selection import SelectKBest, f_classif\n",
    "from sklearn.pipeline import make_pipeline\n",
    "from sklearn.preprocessing import StandardScaler, PolynomialFeatures\n",
    "from sklearn.svm import SVC\n",
    "from sklearn.neighbors import KNeighborsClassifier"
   ]
  },
  {
   "cell_type": "code",
   "execution_count": 66,
   "metadata": {
    "execution": {
     "iopub.execute_input": "2020-10-01T08:48:16.418384Z",
     "iopub.status.busy": "2020-10-01T08:48:16.417433Z",
     "iopub.status.idle": "2020-10-01T08:48:16.419547Z",
     "shell.execute_reply": "2020-10-01T08:48:16.419006Z"
    },
    "papermill": {
     "duration": 0.140999,
     "end_time": "2020-10-01T08:48:16.419659",
     "exception": false,
     "start_time": "2020-10-01T08:48:16.278660",
     "status": "completed"
    },
    "tags": []
   },
   "outputs": [],
   "source": [
    "model=RandomForestClassifier(random_state=0)"
   ]
  },
  {
   "cell_type": "code",
   "execution_count": 67,
   "metadata": {
    "execution": {
     "iopub.execute_input": "2020-10-01T08:48:16.677303Z",
     "iopub.status.busy": "2020-10-01T08:48:16.676610Z",
     "iopub.status.idle": "2020-10-01T08:48:16.680056Z",
     "shell.execute_reply": "2020-10-01T08:48:16.679458Z"
    },
    "papermill": {
     "duration": 0.13578,
     "end_time": "2020-10-01T08:48:16.680180",
     "exception": false,
     "start_time": "2020-10-01T08:48:16.544400",
     "status": "completed"
    },
    "tags": []
   },
   "outputs": [],
   "source": [
    "preprocessor=make_pipeline(SelectKBest(f_classif,k=8))"
   ]
  },
  {
   "cell_type": "code",
   "execution_count": 68,
   "metadata": {
    "execution": {
     "iopub.execute_input": "2020-10-01T08:48:16.949091Z",
     "iopub.status.busy": "2020-10-01T08:48:16.948148Z",
     "iopub.status.idle": "2020-10-01T08:48:16.950912Z",
     "shell.execute_reply": "2020-10-01T08:48:16.950234Z"
    },
    "papermill": {
     "duration": 0.139528,
     "end_time": "2020-10-01T08:48:16.951031",
     "exception": false,
     "start_time": "2020-10-01T08:48:16.811503",
     "status": "completed"
    },
    "tags": []
   },
   "outputs": [],
   "source": [
    "RandomForest=make_pipeline(preprocessor,RandomForestClassifier(random_state=0))\n",
    "AdaBoost=make_pipeline(preprocessor,AdaBoostClassifier(random_state=0))\n",
    "SVM=make_pipeline(preprocessor,StandardScaler(),SVC(random_state=0))\n",
    "KNN=make_pipeline(preprocessor,StandardScaler(),KNeighborsClassifier())"
   ]
  },
  {
   "cell_type": "code",
   "execution_count": 69,
   "metadata": {
    "execution": {
     "iopub.execute_input": "2020-10-01T08:48:17.214118Z",
     "iopub.status.busy": "2020-10-01T08:48:17.213065Z",
     "iopub.status.idle": "2020-10-01T08:48:17.215363Z",
     "shell.execute_reply": "2020-10-01T08:48:17.214778Z"
    },
    "papermill": {
     "duration": 0.137567,
     "end_time": "2020-10-01T08:48:17.215487",
     "exception": false,
     "start_time": "2020-10-01T08:48:17.077920",
     "status": "completed"
    },
    "tags": []
   },
   "outputs": [],
   "source": [
    "models={'RandomForest':RandomForest,'AdaBoost':AdaBoost,'SVM':SVM,'KNN':KNN}"
   ]
  },
  {
   "cell_type": "markdown",
   "metadata": {
    "papermill": {
     "duration": 0.127767,
     "end_time": "2020-10-01T08:48:17.471874",
     "exception": false,
     "start_time": "2020-10-01T08:48:17.344107",
     "status": "completed"
    },
    "tags": []
   },
   "source": [
    "# Procédure d'évaluation"
   ]
  },
  {
   "cell_type": "code",
   "execution_count": 70,
   "metadata": {
    "execution": {
     "iopub.execute_input": "2020-10-01T08:48:17.738823Z",
     "iopub.status.busy": "2020-10-01T08:48:17.738106Z",
     "iopub.status.idle": "2020-10-01T08:48:17.741552Z",
     "shell.execute_reply": "2020-10-01T08:48:17.741013Z"
    },
    "papermill": {
     "duration": 0.140388,
     "end_time": "2020-10-01T08:48:17.741720",
     "exception": false,
     "start_time": "2020-10-01T08:48:17.601332",
     "status": "completed"
    },
    "tags": []
   },
   "outputs": [],
   "source": [
    "def evaluation(model):\n",
    "    \n",
    "    model.fit(X_train,y_train)\n",
    "    y_pred=model.predict(X_test)\n",
    "    \n",
    "    print(accuracy_score(y_test,y_pred))\n",
    "    print(confusion_matrix(y_test,y_pred)) \n",
    "    print(classification_report(y_test,y_pred))\n",
    "    \n",
    "    N,train_score,val_score=learning_curve(model, X_train,y_train,cv=4,train_sizes=np.linspace(0.1,1,10),\n",
    "                                          scoring='accuracy')\n",
    "    \n",
    "    plt.figure(figsize=(12,8))\n",
    "    plt.plot(N,train_score.mean(axis=1),label='Train score')\n",
    "    plt.plot(N,val_score.mean(axis=1), label='val_score')\n",
    "    plt.legend()"
   ]
  },
  {
   "cell_type": "code",
   "execution_count": 71,
   "metadata": {
    "execution": {
     "iopub.execute_input": "2020-10-01T08:48:17.996750Z",
     "iopub.status.busy": "2020-10-01T08:48:17.995982Z",
     "iopub.status.idle": "2020-10-01T08:48:17.998574Z",
     "shell.execute_reply": "2020-10-01T08:48:17.999059Z"
    },
    "papermill": {
     "duration": 0.132357,
     "end_time": "2020-10-01T08:48:17.999221",
     "exception": false,
     "start_time": "2020-10-01T08:48:17.866864",
     "status": "completed"
    },
    "tags": []
   },
   "outputs": [],
   "source": [
    "# for name,model in models.items():\n",
    "#     print(name)\n",
    "#     evaluation(model)"
   ]
  },
  {
   "cell_type": "code",
   "execution_count": 72,
   "metadata": {
    "execution": {
     "iopub.execute_input": "2020-10-01T08:48:18.256242Z",
     "iopub.status.busy": "2020-10-01T08:48:18.255552Z",
     "iopub.status.idle": "2020-10-01T08:48:18.258726Z",
     "shell.execute_reply": "2020-10-01T08:48:18.259264Z"
    },
    "papermill": {
     "duration": 0.134149,
     "end_time": "2020-10-01T08:48:18.259419",
     "exception": false,
     "start_time": "2020-10-01T08:48:18.125270",
     "status": "completed"
    },
    "tags": []
   },
   "outputs": [],
   "source": [
    "# evaluation(model)"
   ]
  },
  {
   "cell_type": "code",
   "execution_count": 73,
   "metadata": {
    "execution": {
     "iopub.execute_input": "2020-10-01T08:48:18.517911Z",
     "iopub.status.busy": "2020-10-01T08:48:18.517238Z",
     "iopub.status.idle": "2020-10-01T08:48:18.520365Z",
     "shell.execute_reply": "2020-10-01T08:48:18.520850Z"
    },
    "papermill": {
     "duration": 0.132863,
     "end_time": "2020-10-01T08:48:18.521001",
     "exception": false,
     "start_time": "2020-10-01T08:48:18.388138",
     "status": "completed"
    },
    "tags": []
   },
   "outputs": [],
   "source": [
    "# pd.DataFrame(model.feature_importances_,index=X_train.columns).plot.bar(figsize=(12,6))"
   ]
  },
  {
   "cell_type": "code",
   "execution_count": 74,
   "metadata": {
    "execution": {
     "iopub.execute_input": "2020-10-01T08:48:18.779861Z",
     "iopub.status.busy": "2020-10-01T08:48:18.779118Z",
     "iopub.status.idle": "2020-10-01T08:48:18.782154Z",
     "shell.execute_reply": "2020-10-01T08:48:18.781440Z"
    },
    "papermill": {
     "duration": 0.136248,
     "end_time": "2020-10-01T08:48:18.782292",
     "exception": false,
     "start_time": "2020-10-01T08:48:18.646044",
     "status": "completed"
    },
    "tags": []
   },
   "outputs": [],
   "source": [
    "def eval_model1():\n",
    "    \n",
    "    for k in range (1,9):\n",
    "        model1=make_pipeline(SelectKBest(f_classif,k=k),\n",
    "                    RandomForestClassifier(random_state=0))\n",
    "        print ('k = ',k)\n",
    "        evaluation(model1)"
   ]
  },
  {
   "cell_type": "code",
   "execution_count": 75,
   "metadata": {
    "execution": {
     "iopub.execute_input": "2020-10-01T08:48:19.042754Z",
     "iopub.status.busy": "2020-10-01T08:48:19.041939Z",
     "iopub.status.idle": "2020-10-01T08:48:19.044718Z",
     "shell.execute_reply": "2020-10-01T08:48:19.044223Z"
    },
    "papermill": {
     "duration": 0.133964,
     "end_time": "2020-10-01T08:48:19.044851",
     "exception": false,
     "start_time": "2020-10-01T08:48:18.910887",
     "status": "completed"
    },
    "tags": []
   },
   "outputs": [],
   "source": [
    "# eval_model1() #resultat k=6 est le meilleur paramètre"
   ]
  },
  {
   "cell_type": "code",
   "execution_count": 76,
   "metadata": {
    "execution": {
     "iopub.execute_input": "2020-10-01T08:48:19.305335Z",
     "iopub.status.busy": "2020-10-01T08:48:19.304612Z",
     "iopub.status.idle": "2020-10-01T08:48:19.308742Z",
     "shell.execute_reply": "2020-10-01T08:48:19.308054Z"
    },
    "papermill": {
     "duration": 0.139523,
     "end_time": "2020-10-01T08:48:19.308897",
     "exception": false,
     "start_time": "2020-10-01T08:48:19.169374",
     "status": "completed"
    },
    "tags": []
   },
   "outputs": [],
   "source": [
    "# evaluation(model1)"
   ]
  },
  {
   "cell_type": "markdown",
   "metadata": {
    "papermill": {
     "duration": 0.127132,
     "end_time": "2020-10-01T08:48:19.591731",
     "exception": false,
     "start_time": "2020-10-01T08:48:19.464599",
     "status": "completed"
    },
    "tags": []
   },
   "source": [
    "# Optimisation"
   ]
  },
  {
   "cell_type": "code",
   "execution_count": 77,
   "metadata": {
    "execution": {
     "iopub.execute_input": "2020-10-01T08:48:19.849440Z",
     "iopub.status.busy": "2020-10-01T08:48:19.848743Z",
     "iopub.status.idle": "2020-10-01T08:48:19.851606Z",
     "shell.execute_reply": "2020-10-01T08:48:19.852123Z"
    },
    "papermill": {
     "duration": 0.134436,
     "end_time": "2020-10-01T08:48:19.852290",
     "exception": false,
     "start_time": "2020-10-01T08:48:19.717854",
     "status": "completed"
    },
    "tags": []
   },
   "outputs": [],
   "source": [
    "from sklearn.model_selection import GridSearchCV,RandomizedSearchCV\n",
    "from sklearn.metrics import precision_recall_curve"
   ]
  },
  {
   "cell_type": "markdown",
   "metadata": {
    "papermill": {
     "duration": 0.129574,
     "end_time": "2020-10-01T08:48:20.111969",
     "exception": false,
     "start_time": "2020-10-01T08:48:19.982395",
     "status": "completed"
    },
    "tags": []
   },
   "source": [
    "# SVM"
   ]
  },
  {
   "cell_type": "code",
   "execution_count": 78,
   "metadata": {
    "execution": {
     "iopub.execute_input": "2020-10-01T08:48:20.373410Z",
     "iopub.status.busy": "2020-10-01T08:48:20.372362Z",
     "iopub.status.idle": "2020-10-01T08:48:20.384761Z",
     "shell.execute_reply": "2020-10-01T08:48:20.384121Z"
    },
    "papermill": {
     "duration": 0.145753,
     "end_time": "2020-10-01T08:48:20.384992",
     "exception": false,
     "start_time": "2020-10-01T08:48:20.239239",
     "status": "completed"
    },
    "tags": []
   },
   "outputs": [
    {
     "data": {
      "text/plain": [
       "Pipeline(steps=[('pipeline',\n",
       "                 Pipeline(steps=[('selectkbest', SelectKBest(k=8))])),\n",
       "                ('standardscaler', StandardScaler()),\n",
       "                ('svc', SVC(random_state=0))])"
      ]
     },
     "execution_count": 78,
     "metadata": {},
     "output_type": "execute_result"
    }
   ],
   "source": [
    "SVM"
   ]
  },
  {
   "cell_type": "code",
   "execution_count": 79,
   "metadata": {
    "execution": {
     "iopub.execute_input": "2020-10-01T08:48:20.691381Z",
     "iopub.status.busy": "2020-10-01T08:48:20.690522Z",
     "iopub.status.idle": "2020-10-01T08:48:20.693651Z",
     "shell.execute_reply": "2020-10-01T08:48:20.694227Z"
    },
    "papermill": {
     "duration": 0.181803,
     "end_time": "2020-10-01T08:48:20.694383",
     "exception": false,
     "start_time": "2020-10-01T08:48:20.512580",
     "status": "completed"
    },
    "tags": []
   },
   "outputs": [
    {
     "data": {
      "text/plain": [
       "{'memory': None,\n",
       " 'steps': [('pipeline', Pipeline(steps=[('selectkbest', SelectKBest(k=8))])),\n",
       "  ('standardscaler', StandardScaler()),\n",
       "  ('svc', SVC(random_state=0))],\n",
       " 'verbose': False,\n",
       " 'pipeline': Pipeline(steps=[('selectkbest', SelectKBest(k=8))]),\n",
       " 'standardscaler': StandardScaler(),\n",
       " 'svc': SVC(random_state=0),\n",
       " 'pipeline__memory': None,\n",
       " 'pipeline__steps': [('selectkbest', SelectKBest(k=8))],\n",
       " 'pipeline__verbose': False,\n",
       " 'pipeline__selectkbest': SelectKBest(k=8),\n",
       " 'pipeline__selectkbest__k': 8,\n",
       " 'pipeline__selectkbest__score_func': <function sklearn.feature_selection._univariate_selection.f_classif(X, y)>,\n",
       " 'standardscaler__copy': True,\n",
       " 'standardscaler__with_mean': True,\n",
       " 'standardscaler__with_std': True,\n",
       " 'svc__C': 1.0,\n",
       " 'svc__break_ties': False,\n",
       " 'svc__cache_size': 200,\n",
       " 'svc__class_weight': None,\n",
       " 'svc__coef0': 0.0,\n",
       " 'svc__decision_function_shape': 'ovr',\n",
       " 'svc__degree': 3,\n",
       " 'svc__gamma': 'scale',\n",
       " 'svc__kernel': 'rbf',\n",
       " 'svc__max_iter': -1,\n",
       " 'svc__probability': False,\n",
       " 'svc__random_state': 0,\n",
       " 'svc__shrinking': True,\n",
       " 'svc__tol': 0.001,\n",
       " 'svc__verbose': False}"
      ]
     },
     "execution_count": 79,
     "metadata": {},
     "output_type": "execute_result"
    }
   ],
   "source": [
    "SVM.get_params()"
   ]
  },
  {
   "cell_type": "code",
   "execution_count": 80,
   "metadata": {
    "execution": {
     "iopub.execute_input": "2020-10-01T08:48:20.956506Z",
     "iopub.status.busy": "2020-10-01T08:48:20.955473Z",
     "iopub.status.idle": "2020-10-01T08:48:20.964706Z",
     "shell.execute_reply": "2020-10-01T08:48:20.963546Z"
    },
    "papermill": {
     "duration": 0.140626,
     "end_time": "2020-10-01T08:48:20.964865",
     "exception": false,
     "start_time": "2020-10-01T08:48:20.824239",
     "status": "completed"
    },
    "tags": []
   },
   "outputs": [],
   "source": [
    "def svmgridmodel():\n",
    "    \n",
    "    hyper_params={'svc__C': [1,10,100,1000],\n",
    "                  'svc__gamma':[1e-2,1e-3,1e-4]\n",
    "                 }\n",
    "    grid=GridSearchCV(SVM,hyper_params,scoring='accuracy',cv=4)\n",
    "\n",
    "    grid.fit(X_train,y_train)\n",
    "\n",
    "    print(grid.best_params_)\n",
    "\n",
    "    ypred=grid.predict(X_test)\n",
    "\n",
    "#     print(classification_report(y_test,ypred))\n",
    "    \n",
    "    evaluation(grid.best_estimator_)"
   ]
  },
  {
   "cell_type": "code",
   "execution_count": 81,
   "metadata": {
    "execution": {
     "iopub.execute_input": "2020-10-01T08:48:21.224147Z",
     "iopub.status.busy": "2020-10-01T08:48:21.223084Z",
     "iopub.status.idle": "2020-10-01T08:48:21.225629Z",
     "shell.execute_reply": "2020-10-01T08:48:21.226197Z"
    },
    "papermill": {
     "duration": 0.134739,
     "end_time": "2020-10-01T08:48:21.226349",
     "exception": false,
     "start_time": "2020-10-01T08:48:21.091610",
     "status": "completed"
    },
    "tags": []
   },
   "outputs": [],
   "source": [
    "# svmgridmodel()"
   ]
  },
  {
   "cell_type": "code",
   "execution_count": 82,
   "metadata": {
    "execution": {
     "iopub.execute_input": "2020-10-01T08:48:21.487271Z",
     "iopub.status.busy": "2020-10-01T08:48:21.486550Z",
     "iopub.status.idle": "2020-10-01T08:48:21.496315Z",
     "shell.execute_reply": "2020-10-01T08:48:21.496909Z"
    },
    "papermill": {
     "duration": 0.142164,
     "end_time": "2020-10-01T08:48:21.497071",
     "exception": false,
     "start_time": "2020-10-01T08:48:21.354907",
     "status": "completed"
    },
    "tags": []
   },
   "outputs": [],
   "source": [
    "def svmrandmodel():\n",
    "    \n",
    "    hyper_params={'svc__C': [1,10,100,1000,3000],\n",
    "                  'svc__gamma':[1e-2,1e-3,1e-4,0.0005],\n",
    "                  'pipeline__selectkbest__k': range(4,9),\n",
    "                  \n",
    "                 }\n",
    "    rand=RandomizedSearchCV(SVM,hyper_params,scoring='accuracy',cv=4,n_iter=40)\n",
    "\n",
    "    rand.fit(X_train,y_train)\n",
    "\n",
    "    print(rand.best_params_)\n",
    "\n",
    "    ypred=rand.predict(X_test)\n",
    "\n",
    "#     print(classification_report(y_test,ypred))\n",
    "    \n",
    "    evaluation(rand.best_estimator_)\n",
    "    precision, recall , threshold=precision_recall_curve(y_test,rand.best_estimator_.decision_function(X_test))\n",
    "    \n",
    "    plt.figure()\n",
    "    plt.plot(threshold,precision[:-1],label='precision')\n",
    "    plt.plot(threshold,recall[:-1],label='recall')\n",
    "#     plt.xlim(-5,1)\n",
    "#     plt.ylim(0.2,1)\n",
    "    plt.legend()\n",
    "    plt.grid()"
   ]
  },
  {
   "cell_type": "code",
   "execution_count": 83,
   "metadata": {
    "execution": {
     "iopub.execute_input": "2020-10-01T08:48:21.755232Z",
     "iopub.status.busy": "2020-10-01T08:48:21.754523Z",
     "iopub.status.idle": "2020-10-01T08:48:27.384679Z",
     "shell.execute_reply": "2020-10-01T08:48:27.384004Z"
    },
    "papermill": {
     "duration": 5.760458,
     "end_time": "2020-10-01T08:48:27.384818",
     "exception": false,
     "start_time": "2020-10-01T08:48:21.624360",
     "status": "completed"
    },
    "tags": []
   },
   "outputs": [
    {
     "name": "stdout",
     "output_type": "stream",
     "text": [
      "{'svc__gamma': 0.01, 'svc__C': 100, 'pipeline__selectkbest__k': 8}\n",
      "0.7471910112359551\n",
      "[[92 13]\n",
      " [32 41]]\n",
      "              precision    recall  f1-score   support\n",
      "\n",
      "           0       0.74      0.88      0.80       105\n",
      "           1       0.76      0.56      0.65        73\n",
      "\n",
      "    accuracy                           0.75       178\n",
      "   macro avg       0.75      0.72      0.72       178\n",
      "weighted avg       0.75      0.75      0.74       178\n",
      "\n"
     ]
    },
    {
     "data": {
      "image/png": "[encoded data removed]",
      "text/plain": [
       "<Figure size 864x576 with 1 Axes>"
      ]
     },
     "metadata": {
      "needs_background": "light"
     },
     "output_type": "display_data"
    },
    {
     "data": {
      "image/png": "[encoded data removed]",
      "text/plain": [
       "<Figure size 432x288 with 1 Axes>"
      ]
     },
     "metadata": {
      "needs_background": "light"
     },
     "output_type": "display_data"
    }
   ],
   "source": [
    "svmrandmodel()"
   ]
  },
  {
   "cell_type": "code",
   "execution_count": 84,
   "metadata": {
    "execution": {
     "iopub.execute_input": "2020-10-01T08:48:27.654681Z",
     "iopub.status.busy": "2020-10-01T08:48:27.653811Z",
     "iopub.status.idle": "2020-10-01T08:48:27.657011Z",
     "shell.execute_reply": "2020-10-01T08:48:27.656369Z"
    },
    "papermill": {
     "duration": 0.139388,
     "end_time": "2020-10-01T08:48:27.657124",
     "exception": false,
     "start_time": "2020-10-01T08:48:27.517736",
     "status": "completed"
    },
    "tags": []
   },
   "outputs": [],
   "source": [
    "# for i in range (len(y_pred)):\n",
    "#     if y_pred[i]==True:\n",
    "#         y_pred[i]=1\n",
    "#     else:\n",
    "#         y_pred[i]=0\n",
    "# print(y_pred)"
   ]
  },
  {
   "cell_type": "markdown",
   "metadata": {
    "papermill": {
     "duration": 0.13194,
     "end_time": "2020-10-01T08:48:27.920452",
     "exception": false,
     "start_time": "2020-10-01T08:48:27.788512",
     "status": "completed"
    },
    "tags": []
   },
   "source": [
    "# AdaBoost"
   ]
  },
  {
   "cell_type": "code",
   "execution_count": 85,
   "metadata": {
    "execution": {
     "iopub.execute_input": "2020-10-01T08:48:28.196289Z",
     "iopub.status.busy": "2020-10-01T08:48:28.195171Z",
     "iopub.status.idle": "2020-10-01T08:48:28.199396Z",
     "shell.execute_reply": "2020-10-01T08:48:28.199890Z"
    },
    "papermill": {
     "duration": 0.146705,
     "end_time": "2020-10-01T08:48:28.200046",
     "exception": false,
     "start_time": "2020-10-01T08:48:28.053341",
     "status": "completed"
    },
    "tags": []
   },
   "outputs": [
    {
     "data": {
      "text/plain": [
       "Pipeline(steps=[('pipeline',\n",
       "                 Pipeline(steps=[('selectkbest', SelectKBest(k=8))])),\n",
       "                ('adaboostclassifier', AdaBoostClassifier(random_state=0))])"
      ]
     },
     "execution_count": 85,
     "metadata": {},
     "output_type": "execute_result"
    }
   ],
   "source": [
    "AdaBoost"
   ]
  },
  {
   "cell_type": "code",
   "execution_count": 86,
   "metadata": {
    "execution": {
     "iopub.execute_input": "2020-10-01T08:48:28.477679Z",
     "iopub.status.busy": "2020-10-01T08:48:28.476551Z",
     "iopub.status.idle": "2020-10-01T08:48:28.481350Z",
     "shell.execute_reply": "2020-10-01T08:48:28.480659Z"
    },
    "papermill": {
     "duration": 0.146751,
     "end_time": "2020-10-01T08:48:28.481480",
     "exception": false,
     "start_time": "2020-10-01T08:48:28.334729",
     "status": "completed"
    },
    "tags": []
   },
   "outputs": [
    {
     "data": {
      "text/plain": [
       "{'memory': None,\n",
       " 'steps': [('pipeline', Pipeline(steps=[('selectkbest', SelectKBest(k=8))])),\n",
       "  ('adaboostclassifier', AdaBoostClassifier(random_state=0))],\n",
       " 'verbose': False,\n",
       " 'pipeline': Pipeline(steps=[('selectkbest', SelectKBest(k=8))]),\n",
       " 'adaboostclassifier': AdaBoostClassifier(random_state=0),\n",
       " 'pipeline__memory': None,\n",
       " 'pipeline__steps': [('selectkbest', SelectKBest(k=8))],\n",
       " 'pipeline__verbose': False,\n",
       " 'pipeline__selectkbest': SelectKBest(k=8),\n",
       " 'pipeline__selectkbest__k': 8,\n",
       " 'pipeline__selectkbest__score_func': <function sklearn.feature_selection._univariate_selection.f_classif(X, y)>,\n",
       " 'adaboostclassifier__algorithm': 'SAMME.R',\n",
       " 'adaboostclassifier__base_estimator': None,\n",
       " 'adaboostclassifier__learning_rate': 1.0,\n",
       " 'adaboostclassifier__n_estimators': 50,\n",
       " 'adaboostclassifier__random_state': 0}"
      ]
     },
     "execution_count": 86,
     "metadata": {},
     "output_type": "execute_result"
    }
   ],
   "source": [
    "AdaBoost.get_params()"
   ]
  },
  {
   "cell_type": "code",
   "execution_count": 87,
   "metadata": {
    "execution": {
     "iopub.execute_input": "2020-10-01T08:48:28.755985Z",
     "iopub.status.busy": "2020-10-01T08:48:28.755227Z",
     "iopub.status.idle": "2020-10-01T08:48:28.758727Z",
     "shell.execute_reply": "2020-10-01T08:48:28.758168Z"
    },
    "papermill": {
     "duration": 0.14516,
     "end_time": "2020-10-01T08:48:28.758865",
     "exception": false,
     "start_time": "2020-10-01T08:48:28.613705",
     "status": "completed"
    },
    "tags": []
   },
   "outputs": [],
   "source": [
    "def adagridmodel():\n",
    "    \n",
    "    hyper_params={'adaboostclassifier__n_estimators': [50,100,150],\n",
    "                  'adaboostclassifier__learning_rate': [1,1e-1,1e-2]\n",
    "                 }\n",
    "    grid=GridSearchCV(AdaBoost,hyper_params,scoring='accuracy',cv=4)\n",
    "\n",
    "    grid.fit(X_train,y_train)\n",
    "\n",
    "    print(grid.best_params_)\n",
    "\n",
    "    ypred=grid.predict(X_test)\n",
    "\n",
    "#     print(classification_report(y_test,ypred))\n",
    "    \n",
    "    evaluation(grid.best_estimator_)\n",
    "    precision, recall , threshold=precision_recall_curve(y_test,grid.best_estimator_.decision_function(X_test))\n",
    "    \n",
    "    plt.figure()\n",
    "    plt.plot(threshold,precision[:-1],label='precision')\n",
    "    plt.plot(threshold,recall[:-1],label='recall')\n",
    "#     plt.xlim(-5,1)\n",
    "#     plt.ylim(0.2,1)\n",
    "    plt.legend()"
   ]
  },
  {
   "cell_type": "code",
   "execution_count": 88,
   "metadata": {
    "execution": {
     "iopub.execute_input": "2020-10-01T08:48:29.029050Z",
     "iopub.status.busy": "2020-10-01T08:48:29.028354Z",
     "iopub.status.idle": "2020-10-01T08:48:43.232635Z",
     "shell.execute_reply": "2020-10-01T08:48:43.233140Z"
    },
    "papermill": {
     "duration": 14.341188,
     "end_time": "2020-10-01T08:48:43.233297",
     "exception": false,
     "start_time": "2020-10-01T08:48:28.892109",
     "status": "completed"
    },
    "tags": []
   },
   "outputs": [
    {
     "name": "stdout",
     "output_type": "stream",
     "text": [
      "{'adaboostclassifier__learning_rate': 1, 'adaboostclassifier__n_estimators': 50}\n",
      "0.6966292134831461\n",
      "[[79 26]\n",
      " [28 45]]\n",
      "              precision    recall  f1-score   support\n",
      "\n",
      "           0       0.74      0.75      0.75       105\n",
      "           1       0.63      0.62      0.63        73\n",
      "\n",
      "    accuracy                           0.70       178\n",
      "   macro avg       0.69      0.68      0.69       178\n",
      "weighted avg       0.70      0.70      0.70       178\n",
      "\n"
     ]
    },
    {
     "data": {
      "image/png": "[encoded data removed]",
      "text/plain": [
       "<Figure size 864x576 with 1 Axes>"
      ]
     },
     "metadata": {
      "needs_background": "light"
     },
     "output_type": "display_data"
    },
    {
     "data": {
      "image/png": "[encoded data removed]",
      "text/plain": [
       "<Figure size 432x288 with 1 Axes>"
      ]
     },
     "metadata": {
      "needs_background": "light"
     },
     "output_type": "display_data"
    }
   ],
   "source": [
    "adagridmodel()"
   ]
  },
  {
   "cell_type": "code",
   "execution_count": 89,
   "metadata": {
    "execution": {
     "iopub.execute_input": "2020-10-01T08:48:43.531048Z",
     "iopub.status.busy": "2020-10-01T08:48:43.530204Z",
     "iopub.status.idle": "2020-10-01T08:48:43.535282Z",
     "shell.execute_reply": "2020-10-01T08:48:43.534442Z"
    },
    "papermill": {
     "duration": 0.160044,
     "end_time": "2020-10-01T08:48:43.535431",
     "exception": false,
     "start_time": "2020-10-01T08:48:43.375387",
     "status": "completed"
    },
    "tags": []
   },
   "outputs": [],
   "source": [
    "df1=test_data.copy()"
   ]
  },
  {
   "cell_type": "code",
   "execution_count": 90,
   "metadata": {
    "execution": {
     "iopub.execute_input": "2020-10-01T08:48:43.828412Z",
     "iopub.status.busy": "2020-10-01T08:48:43.827652Z",
     "iopub.status.idle": "2020-10-01T08:48:43.841546Z",
     "shell.execute_reply": "2020-10-01T08:48:43.842077Z"
    },
    "papermill": {
     "duration": 0.160719,
     "end_time": "2020-10-01T08:48:43.842258",
     "exception": false,
     "start_time": "2020-10-01T08:48:43.681539",
     "status": "completed"
    },
    "tags": []
   },
   "outputs": [],
   "source": [
    "df1.drop(['PassengerId','Cabin','Name','Ticket'],axis=1,inplace=True)\n",
    "df1['who']=df1.apply(who,axis=1)"
   ]
  },
  {
   "cell_type": "code",
   "execution_count": 91,
   "metadata": {
    "execution": {
     "iopub.execute_input": "2020-10-01T08:48:44.126281Z",
     "iopub.status.busy": "2020-10-01T08:48:44.125203Z",
     "iopub.status.idle": "2020-10-01T08:48:44.137541Z",
     "shell.execute_reply": "2020-10-01T08:48:44.138044Z"
    },
    "papermill": {
     "duration": 0.158116,
     "end_time": "2020-10-01T08:48:44.138207",
     "exception": false,
     "start_time": "2020-10-01T08:48:43.980091",
     "status": "completed"
    },
    "tags": []
   },
   "outputs": [
    {
     "data": {
      "text/html": [
       "<div>\n",
       "<style scoped>\n",
       "    .dataframe tbody tr th:only-of-type {\n",
       "        vertical-align: middle;\n",
       "    }\n",
       "\n",
       "    .dataframe tbody tr th {\n",
       "        vertical-align: top;\n",
       "    }\n",
       "\n",
       "    .dataframe thead th {\n",
       "        text-align: right;\n",
       "    }\n",
       "</style>\n",
       "<table border=\"1\" class=\"dataframe\">\n",
       "  <thead>\n",
       "    <tr style=\"text-align: right;\">\n",
       "      <th></th>\n",
       "      <th>Pclass</th>\n",
       "      <th>Sex</th>\n",
       "      <th>Age</th>\n",
       "      <th>SibSp</th>\n",
       "      <th>Parch</th>\n",
       "      <th>Fare</th>\n",
       "      <th>Embarked</th>\n",
       "      <th>who</th>\n",
       "    </tr>\n",
       "  </thead>\n",
       "  <tbody>\n",
       "    <tr>\n",
       "      <th>0</th>\n",
       "      <td>3</td>\n",
       "      <td>male</td>\n",
       "      <td>34.5</td>\n",
       "      <td>0</td>\n",
       "      <td>0</td>\n",
       "      <td>7.8292</td>\n",
       "      <td>Q</td>\n",
       "      <td>male</td>\n",
       "    </tr>\n",
       "    <tr>\n",
       "      <th>1</th>\n",
       "      <td>3</td>\n",
       "      <td>female</td>\n",
       "      <td>47.0</td>\n",
       "      <td>1</td>\n",
       "      <td>0</td>\n",
       "      <td>7.0000</td>\n",
       "      <td>S</td>\n",
       "      <td>female</td>\n",
       "    </tr>\n",
       "    <tr>\n",
       "      <th>2</th>\n",
       "      <td>2</td>\n",
       "      <td>male</td>\n",
       "      <td>62.0</td>\n",
       "      <td>0</td>\n",
       "      <td>0</td>\n",
       "      <td>9.6875</td>\n",
       "      <td>Q</td>\n",
       "      <td>male</td>\n",
       "    </tr>\n",
       "    <tr>\n",
       "      <th>3</th>\n",
       "      <td>3</td>\n",
       "      <td>male</td>\n",
       "      <td>27.0</td>\n",
       "      <td>0</td>\n",
       "      <td>0</td>\n",
       "      <td>8.6625</td>\n",
       "      <td>S</td>\n",
       "      <td>male</td>\n",
       "    </tr>\n",
       "    <tr>\n",
       "      <th>4</th>\n",
       "      <td>3</td>\n",
       "      <td>female</td>\n",
       "      <td>22.0</td>\n",
       "      <td>1</td>\n",
       "      <td>1</td>\n",
       "      <td>12.2875</td>\n",
       "      <td>S</td>\n",
       "      <td>female</td>\n",
       "    </tr>\n",
       "  </tbody>\n",
       "</table>\n",
       "</div>"
      ],
      "text/plain": [
       "   Pclass     Sex   Age  SibSp  Parch     Fare Embarked     who\n",
       "0       3    male  34.5      0      0   7.8292        Q    male\n",
       "1       3  female  47.0      1      0   7.0000        S  female\n",
       "2       2    male  62.0      0      0   9.6875        Q    male\n",
       "3       3    male  27.0      0      0   8.6625        S    male\n",
       "4       3  female  22.0      1      1  12.2875        S  female"
      ]
     },
     "execution_count": 91,
     "metadata": {},
     "output_type": "execute_result"
    }
   ],
   "source": [
    "df1.head()"
   ]
  },
  {
   "cell_type": "code",
   "execution_count": null,
   "metadata": {
    "papermill": {
     "duration": 0.142145,
     "end_time": "2020-10-01T08:48:44.420918",
     "exception": false,
     "start_time": "2020-10-01T08:48:44.278773",
     "status": "completed"
    },
    "tags": []
   },
   "outputs": [],
   "source": []
  },
  {
   "cell_type": "code",
   "execution_count": 92,
   "metadata": {
    "execution": {
     "iopub.execute_input": "2020-10-01T08:48:44.702643Z",
     "iopub.status.busy": "2020-10-01T08:48:44.701963Z",
     "iopub.status.idle": "2020-10-01T08:48:44.707978Z",
     "shell.execute_reply": "2020-10-01T08:48:44.708498Z"
    },
    "papermill": {
     "duration": 0.152024,
     "end_time": "2020-10-01T08:48:44.708671",
     "exception": false,
     "start_time": "2020-10-01T08:48:44.556647",
     "status": "completed"
    },
    "tags": []
   },
   "outputs": [],
   "source": [
    "def final_preprocessing(df):\n",
    "    \n",
    "#     df=feature_engineering(df)\n",
    "    \n",
    "    df=encodage(df)\n",
    "    \n",
    "    df['Age']=df['Age'].fillna(df.Age.mean())\n",
    "    df['Fare']=df['Fare'].fillna(df.Fare.mean())\n",
    "#     print (df.isna().sum())\n",
    "   \n",
    "    \n",
    "    X=df\n",
    "    \n",
    "    \n",
    "   \n",
    "    \n",
    "    \n",
    "    return X"
   ]
  },
  {
   "cell_type": "code",
   "execution_count": 93,
   "metadata": {
    "execution": {
     "iopub.execute_input": "2020-10-01T08:48:45.006815Z",
     "iopub.status.busy": "2020-10-01T08:48:45.005624Z",
     "iopub.status.idle": "2020-10-01T08:48:45.030012Z",
     "shell.execute_reply": "2020-10-01T08:48:45.030631Z"
    },
    "papermill": {
     "duration": 0.179692,
     "end_time": "2020-10-01T08:48:45.030780",
     "exception": false,
     "start_time": "2020-10-01T08:48:44.851088",
     "status": "completed"
    },
    "tags": []
   },
   "outputs": [
    {
     "data": {
      "text/html": [
       "<div>\n",
       "<style scoped>\n",
       "    .dataframe tbody tr th:only-of-type {\n",
       "        vertical-align: middle;\n",
       "    }\n",
       "\n",
       "    .dataframe tbody tr th {\n",
       "        vertical-align: top;\n",
       "    }\n",
       "\n",
       "    .dataframe thead th {\n",
       "        text-align: right;\n",
       "    }\n",
       "</style>\n",
       "<table border=\"1\" class=\"dataframe\">\n",
       "  <thead>\n",
       "    <tr style=\"text-align: right;\">\n",
       "      <th></th>\n",
       "      <th>Pclass</th>\n",
       "      <th>Sex</th>\n",
       "      <th>Age</th>\n",
       "      <th>SibSp</th>\n",
       "      <th>Parch</th>\n",
       "      <th>Fare</th>\n",
       "      <th>Embarked</th>\n",
       "      <th>who</th>\n",
       "    </tr>\n",
       "  </thead>\n",
       "  <tbody>\n",
       "    <tr>\n",
       "      <th>0</th>\n",
       "      <td>3</td>\n",
       "      <td>0</td>\n",
       "      <td>34.50000</td>\n",
       "      <td>0</td>\n",
       "      <td>0</td>\n",
       "      <td>7.8292</td>\n",
       "      <td>2</td>\n",
       "      <td>0</td>\n",
       "    </tr>\n",
       "    <tr>\n",
       "      <th>1</th>\n",
       "      <td>3</td>\n",
       "      <td>1</td>\n",
       "      <td>47.00000</td>\n",
       "      <td>1</td>\n",
       "      <td>0</td>\n",
       "      <td>7.0000</td>\n",
       "      <td>0</td>\n",
       "      <td>1</td>\n",
       "    </tr>\n",
       "    <tr>\n",
       "      <th>2</th>\n",
       "      <td>2</td>\n",
       "      <td>0</td>\n",
       "      <td>62.00000</td>\n",
       "      <td>0</td>\n",
       "      <td>0</td>\n",
       "      <td>9.6875</td>\n",
       "      <td>2</td>\n",
       "      <td>0</td>\n",
       "    </tr>\n",
       "    <tr>\n",
       "      <th>3</th>\n",
       "      <td>3</td>\n",
       "      <td>0</td>\n",
       "      <td>27.00000</td>\n",
       "      <td>0</td>\n",
       "      <td>0</td>\n",
       "      <td>8.6625</td>\n",
       "      <td>0</td>\n",
       "      <td>0</td>\n",
       "    </tr>\n",
       "    <tr>\n",
       "      <th>4</th>\n",
       "      <td>3</td>\n",
       "      <td>1</td>\n",
       "      <td>22.00000</td>\n",
       "      <td>1</td>\n",
       "      <td>1</td>\n",
       "      <td>12.2875</td>\n",
       "      <td>0</td>\n",
       "      <td>1</td>\n",
       "    </tr>\n",
       "    <tr>\n",
       "      <th>...</th>\n",
       "      <td>...</td>\n",
       "      <td>...</td>\n",
       "      <td>...</td>\n",
       "      <td>...</td>\n",
       "      <td>...</td>\n",
       "      <td>...</td>\n",
       "      <td>...</td>\n",
       "      <td>...</td>\n",
       "    </tr>\n",
       "    <tr>\n",
       "      <th>413</th>\n",
       "      <td>3</td>\n",
       "      <td>0</td>\n",
       "      <td>30.27259</td>\n",
       "      <td>0</td>\n",
       "      <td>0</td>\n",
       "      <td>8.0500</td>\n",
       "      <td>0</td>\n",
       "      <td>0</td>\n",
       "    </tr>\n",
       "    <tr>\n",
       "      <th>414</th>\n",
       "      <td>1</td>\n",
       "      <td>1</td>\n",
       "      <td>39.00000</td>\n",
       "      <td>0</td>\n",
       "      <td>0</td>\n",
       "      <td>108.9000</td>\n",
       "      <td>1</td>\n",
       "      <td>1</td>\n",
       "    </tr>\n",
       "    <tr>\n",
       "      <th>415</th>\n",
       "      <td>3</td>\n",
       "      <td>0</td>\n",
       "      <td>38.50000</td>\n",
       "      <td>0</td>\n",
       "      <td>0</td>\n",
       "      <td>7.2500</td>\n",
       "      <td>0</td>\n",
       "      <td>0</td>\n",
       "    </tr>\n",
       "    <tr>\n",
       "      <th>416</th>\n",
       "      <td>3</td>\n",
       "      <td>0</td>\n",
       "      <td>30.27259</td>\n",
       "      <td>0</td>\n",
       "      <td>0</td>\n",
       "      <td>8.0500</td>\n",
       "      <td>0</td>\n",
       "      <td>0</td>\n",
       "    </tr>\n",
       "    <tr>\n",
       "      <th>417</th>\n",
       "      <td>3</td>\n",
       "      <td>0</td>\n",
       "      <td>30.27259</td>\n",
       "      <td>1</td>\n",
       "      <td>1</td>\n",
       "      <td>22.3583</td>\n",
       "      <td>1</td>\n",
       "      <td>0</td>\n",
       "    </tr>\n",
       "  </tbody>\n",
       "</table>\n",
       "<p>418 rows × 8 columns</p>\n",
       "</div>"
      ],
      "text/plain": [
       "     Pclass  Sex       Age  SibSp  Parch      Fare  Embarked  who\n",
       "0         3    0  34.50000      0      0    7.8292         2    0\n",
       "1         3    1  47.00000      1      0    7.0000         0    1\n",
       "2         2    0  62.00000      0      0    9.6875         2    0\n",
       "3         3    0  27.00000      0      0    8.6625         0    0\n",
       "4         3    1  22.00000      1      1   12.2875         0    1\n",
       "..      ...  ...       ...    ...    ...       ...       ...  ...\n",
       "413       3    0  30.27259      0      0    8.0500         0    0\n",
       "414       1    1  39.00000      0      0  108.9000         1    1\n",
       "415       3    0  38.50000      0      0    7.2500         0    0\n",
       "416       3    0  30.27259      0      0    8.0500         0    0\n",
       "417       3    0  30.27259      1      1   22.3583         1    0\n",
       "\n",
       "[418 rows x 8 columns]"
      ]
     },
     "execution_count": 93,
     "metadata": {},
     "output_type": "execute_result"
    }
   ],
   "source": [
    "final_preprocessing(df1)"
   ]
  },
  {
   "cell_type": "code",
   "execution_count": 94,
   "metadata": {
    "execution": {
     "iopub.execute_input": "2020-10-01T08:48:45.309379Z",
     "iopub.status.busy": "2020-10-01T08:48:45.308346Z",
     "iopub.status.idle": "2020-10-01T08:48:45.313955Z",
     "shell.execute_reply": "2020-10-01T08:48:45.314743Z"
    },
    "papermill": {
     "duration": 0.146416,
     "end_time": "2020-10-01T08:48:45.314983",
     "exception": false,
     "start_time": "2020-10-01T08:48:45.168567",
     "status": "completed"
    },
    "tags": []
   },
   "outputs": [],
   "source": [
    "SVM_best=SVM=make_pipeline(preprocessor,StandardScaler(),SVC(C=10000,gamma=0.0001,random_state=0))"
   ]
  },
  {
   "cell_type": "code",
   "execution_count": 95,
   "metadata": {
    "execution": {
     "iopub.execute_input": "2020-10-01T08:48:45.602534Z",
     "iopub.status.busy": "2020-10-01T08:48:45.601420Z",
     "iopub.status.idle": "2020-10-01T08:48:45.767976Z",
     "shell.execute_reply": "2020-10-01T08:48:45.767289Z"
    },
    "papermill": {
     "duration": 0.313335,
     "end_time": "2020-10-01T08:48:45.768091",
     "exception": false,
     "start_time": "2020-10-01T08:48:45.454756",
     "status": "completed"
    },
    "tags": []
   },
   "outputs": [
    {
     "data": {
      "text/plain": [
       "Pipeline(steps=[('pipeline',\n",
       "                 Pipeline(steps=[('selectkbest', SelectKBest(k=8))])),\n",
       "                ('adaboostclassifier', AdaBoostClassifier(random_state=0))])"
      ]
     },
     "execution_count": 95,
     "metadata": {},
     "output_type": "execute_result"
    }
   ],
   "source": [
    "SVM_best.fit(X_train,y_train)\n",
    "AdaBoost.fit(X_train,y_train)"
   ]
  },
  {
   "cell_type": "code",
   "execution_count": 96,
   "metadata": {
    "execution": {
     "iopub.execute_input": "2020-10-01T08:48:46.056928Z",
     "iopub.status.busy": "2020-10-01T08:48:46.055871Z",
     "iopub.status.idle": "2020-10-01T08:48:46.059419Z",
     "shell.execute_reply": "2020-10-01T08:48:46.058818Z"
    },
    "papermill": {
     "duration": 0.150231,
     "end_time": "2020-10-01T08:48:46.059538",
     "exception": false,
     "start_time": "2020-10-01T08:48:45.909307",
     "status": "completed"
    },
    "tags": []
   },
   "outputs": [],
   "source": [
    "def evaluationfinal(df,model):\n",
    "    \n",
    "    X=final_preprocessing(df1)\n",
    "    y_pred=model.predict(X)\n",
    "    \n",
    "    return y_pred"
   ]
  },
  {
   "cell_type": "code",
   "execution_count": 97,
   "metadata": {
    "execution": {
     "iopub.execute_input": "2020-10-01T08:48:46.344656Z",
     "iopub.status.busy": "2020-10-01T08:48:46.343421Z",
     "iopub.status.idle": "2020-10-01T08:48:46.346178Z",
     "shell.execute_reply": "2020-10-01T08:48:46.346650Z"
    },
    "papermill": {
     "duration": 0.149829,
     "end_time": "2020-10-01T08:48:46.346824",
     "exception": false,
     "start_time": "2020-10-01T08:48:46.196995",
     "status": "completed"
    },
    "tags": []
   },
   "outputs": [],
   "source": [
    "def model_final(model,X,threshold=0):\n",
    "    return model.decision_function(X)>threshold"
   ]
  },
  {
   "cell_type": "code",
   "execution_count": 98,
   "metadata": {
    "execution": {
     "iopub.execute_input": "2020-10-01T08:48:46.637694Z",
     "iopub.status.busy": "2020-10-01T08:48:46.637031Z",
     "iopub.status.idle": "2020-10-01T08:48:46.651478Z",
     "shell.execute_reply": "2020-10-01T08:48:46.652168Z"
    },
    "papermill": {
     "duration": 0.158586,
     "end_time": "2020-10-01T08:48:46.652333",
     "exception": false,
     "start_time": "2020-10-01T08:48:46.493747",
     "status": "completed"
    },
    "tags": []
   },
   "outputs": [],
   "source": [
    "Xfinal=final_preprocessing(df1)\n",
    "y_pred=model_final(SVM_best,Xfinal,threshold=-0.8)\n",
    "y_pred=y_pred.reshape(418,1)\n"
   ]
  },
  {
   "cell_type": "code",
   "execution_count": 99,
   "metadata": {
    "execution": {
     "iopub.execute_input": "2020-10-01T08:48:46.940109Z",
     "iopub.status.busy": "2020-10-01T08:48:46.939015Z",
     "iopub.status.idle": "2020-10-01T08:48:46.970068Z",
     "shell.execute_reply": "2020-10-01T08:48:46.970649Z"
    },
    "papermill": {
     "duration": 0.179357,
     "end_time": "2020-10-01T08:48:46.970820",
     "exception": false,
     "start_time": "2020-10-01T08:48:46.791463",
     "status": "completed"
    },
    "tags": []
   },
   "outputs": [],
   "source": [
    "# y=evaluationfinal(df1,RandomForest)\n",
    "y1=evaluationfinal(df1,SVM_best)\n",
    "y1bis=y_pred.sum(axis=1)\n",
    "y2=y1=evaluationfinal(df1,AdaBoost)"
   ]
  },
  {
   "cell_type": "code",
   "execution_count": 100,
   "metadata": {
    "execution": {
     "iopub.execute_input": "2020-10-01T08:48:47.271440Z",
     "iopub.status.busy": "2020-10-01T08:48:47.270658Z",
     "iopub.status.idle": "2020-10-01T08:48:47.600386Z",
     "shell.execute_reply": "2020-10-01T08:48:47.600981Z"
    },
    "papermill": {
     "duration": 0.474546,
     "end_time": "2020-10-01T08:48:47.601140",
     "exception": false,
     "start_time": "2020-10-01T08:48:47.126594",
     "status": "completed"
    },
    "tags": []
   },
   "outputs": [],
   "source": [
    "output = pd.DataFrame({'PassengerId': test_data.PassengerId,\n",
    "                       'Survived': y1})\n",
    "output.to_csv('submission.csv', index=False)"
   ]
  },
  {
   "cell_type": "code",
   "execution_count": null,
   "metadata": {
    "papermill": {
     "duration": 0.138151,
     "end_time": "2020-10-01T08:48:47.880145",
     "exception": false,
     "start_time": "2020-10-01T08:48:47.741994",
     "status": "completed"
    },
    "tags": []
   },
   "outputs": [],
   "source": []
  },
  {
   "cell_type": "code",
   "execution_count": null,
   "metadata": {
    "papermill": {
     "duration": 0.137934,
     "end_time": "2020-10-01T08:48:48.156536",
     "exception": false,
     "start_time": "2020-10-01T08:48:48.018602",
     "status": "completed"
    },
    "tags": []
   },
   "outputs": [],
   "source": []
  }
 ],
 "metadata": {
  "kernelspec": {
   "display_name": "Python 3",
   "language": "python",
   "name": "python3"
  },
  "language_info": {
   "codemirror_mode": {
    "name": "ipython",
    "version": 3
   },
   "file_extension": ".py",
   "mimetype": "text/x-python",
   "name": "python",
   "nbconvert_exporter": "python",
   "pygments_lexer": "ipython3",
   "version": "3.7.6"
  },
  "papermill": {
   "duration": 70.490452,
   "end_time": "2020-10-01T08:48:49.363413",
   "environment_variables": {},
   "exception": null,
   "input_path": "__notebook__.ipynb",
   "output_path": "__notebook__.ipynb",
   "parameters": {},
   "start_time": "2020-10-01T08:47:38.872961",
   "version": "2.1.0"
  }
 },
 "nbformat": 4,
 "nbformat_minor": 4
}
